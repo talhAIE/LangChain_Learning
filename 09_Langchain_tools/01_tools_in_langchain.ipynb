{
 "cells": [
  {
   "cell_type": "markdown",
   "id": "702859f1",
   "metadata": {},
   "source": [
    "# DuckDuckGo"
   ]
  },
  {
   "cell_type": "code",
   "execution_count": 6,
   "id": "8ac80092",
   "metadata": {},
   "outputs": [
    {
     "name": "stderr",
     "output_type": "stream",
     "text": [
      "c:\\Users\\PC\\AppData\\Local\\Programs\\Python\\Python313\\Lib\\site-packages\\langchain_community\\utilities\\duckduckgo_search.py:63: RuntimeWarning: This package (`duckduckgo_search`) has been renamed to `ddgs`! Use `pip install ddgs` instead.\n",
      "  with DDGS() as ddgs:\n"
     ]
    },
    {
     "name": "stdout",
     "output_type": "stream",
     "text": [
      "TOP definition: 1. the highest place or part: 2. the flat upper surface of something: 3. in baseball, the first…. Learn more. TOP翻译：顶部, 顶；顶端；顶部, 上层表面, 衣服, 上装，上衣, 盖, （容器或笔的）盖子, 最重要, 玩具, 陀螺（同 spinning top ... 再来具体谈谈什么是拓扑图吧！ 拓扑图也叫作拓扑结构图，是指由计算机、打印机、网络设备以及其他设备构成的网络结构图 其实就是将实物的连接方式用图形表现出来哦~ 拓扑图可以通过图 … ON TOP OF SOMETHING definition: 1. in addition to something, especially something unpleasant: 2. in control of something or able…. Learn more. Tutorials and Guides - Post and read various Top Eleven tutorials.\n"
     ]
    }
   ],
   "source": [
    "from langchain_community.tools import DuckDuckGoSearchRun\n",
    "search_tool=DuckDuckGoSearchRun()\n",
    "results=search_tool.invoke(\"top news in pakistan today\")\n",
    "print(results)\n"
   ]
  },
  {
   "cell_type": "markdown",
   "id": "2d3526a4",
   "metadata": {},
   "source": [
    "# Shell Tool"
   ]
  },
  {
   "cell_type": "code",
   "execution_count": 7,
   "id": "abf33651",
   "metadata": {},
   "outputs": [
    {
     "name": "stdout",
     "output_type": "stream",
     "text": [
      "Executing command:\n",
      " whoami\n",
      "desktop-nak355l\\pc\n",
      "\n"
     ]
    },
    {
     "name": "stderr",
     "output_type": "stream",
     "text": [
      "c:\\Users\\PC\\AppData\\Local\\Programs\\Python\\Python313\\Lib\\site-packages\\langchain_community\\tools\\shell\\tool.py:33: UserWarning: The shell tool has no safeguards by default. Use at your own risk.\n",
      "  warnings.warn(\n"
     ]
    }
   ],
   "source": [
    "from langchain_community.tools import ShellTool\n",
    "shell_tool=ShellTool()\n",
    "results=shell_tool.invoke('whoami')\n",
    "print(results)"
   ]
  },
  {
   "cell_type": "markdown",
   "id": "971d1fa5",
   "metadata": {},
   "source": [
    "# Custom Tool"
   ]
  },
  {
   "cell_type": "code",
   "execution_count": 8,
   "id": "592c0f23",
   "metadata": {},
   "outputs": [],
   "source": [
    "from langchain_core.tools import tool"
   ]
  },
  {
   "cell_type": "code",
   "execution_count": null,
   "id": "5f3a8199",
   "metadata": {},
   "outputs": [],
   "source": [
    "# create function\n",
    "def multiply(a,b):\n",
    "    '''multiply two numbers'''\n",
    "    return a*b"
   ]
  },
  {
   "cell_type": "code",
   "execution_count": 11,
   "id": "1edd7000",
   "metadata": {},
   "outputs": [],
   "source": [
    "# add type hints\n",
    "def multiply(a:int  ,b:int)->int:\n",
    "    '''multiply two numbers'''\n",
    "    return a*b\n"
   ]
  },
  {
   "cell_type": "code",
   "execution_count": 12,
   "id": "23d4aeb6",
   "metadata": {},
   "outputs": [],
   "source": [
    "# add tool decorator\n",
    "@tool\n",
    "# add type hints\n",
    "def multiply(a:int  ,b:int)->int:\n",
    "    '''multiply two numbers'''\n",
    "    return a*b"
   ]
  },
  {
   "cell_type": "code",
   "execution_count": 14,
   "id": "e79583d2",
   "metadata": {},
   "outputs": [],
   "source": [
    "result=multiply.invoke({\"a\":3,\"b\":4})"
   ]
  },
  {
   "cell_type": "code",
   "execution_count": 16,
   "id": "f82e680c",
   "metadata": {},
   "outputs": [
    {
     "name": "stdout",
     "output_type": "stream",
     "text": [
      "12\n"
     ]
    }
   ],
   "source": [
    "print(result)"
   ]
  },
  {
   "cell_type": "code",
   "execution_count": 18,
   "id": "bcca5837",
   "metadata": {},
   "outputs": [
    {
     "name": "stdout",
     "output_type": "stream",
     "text": [
      "multiply\n",
      "multiply two numbers\n",
      "{'a': {'title': 'A', 'type': 'integer'}, 'b': {'title': 'B', 'type': 'integer'}}\n"
     ]
    }
   ],
   "source": [
    "print(multiply.name)\n",
    "print(multiply.description)\n",
    "print(multiply.args)"
   ]
  },
  {
   "cell_type": "code",
   "execution_count": 19,
   "id": "a5c16d69",
   "metadata": {},
   "outputs": [
    {
     "name": "stdout",
     "output_type": "stream",
     "text": [
      "duckduckgo_search\n",
      "A wrapper around DuckDuckGo Search. Useful for when you need to answer questions about current events. Input should be a search query.\n",
      "{'query': {'description': 'search query to look up', 'title': 'Query', 'type': 'string'}}\n"
     ]
    }
   ],
   "source": [
    "print(search_tool.name)\n",
    "print(search_tool.description)\n",
    "print(search_tool.args)"
   ]
  },
  {
   "cell_type": "code",
   "execution_count": 20,
   "id": "cd6af5df",
   "metadata": {},
   "outputs": [
    {
     "name": "stdout",
     "output_type": "stream",
     "text": [
      "{'description': 'multiply two numbers', 'properties': {'a': {'title': 'A', 'type': 'integer'}, 'b': {'title': 'B', 'type': 'integer'}}, 'required': ['a', 'b'], 'title': 'multiply', 'type': 'object'}\n"
     ]
    }
   ],
   "source": [
    "print(multiply.args_schema.model_json_schema())"
   ]
  },
  {
   "cell_type": "markdown",
   "id": "35891bcd",
   "metadata": {},
   "source": [
    "# Tool using Structured tool and pydantic"
   ]
  },
  {
   "cell_type": "code",
   "execution_count": 22,
   "id": "4a8aab36",
   "metadata": {},
   "outputs": [],
   "source": [
    "from langchain.tools import StructuredTool\n",
    "from pydantic import BaseModel,Field"
   ]
  },
  {
   "cell_type": "code",
   "execution_count": 24,
   "id": "1722db02",
   "metadata": {},
   "outputs": [
    {
     "name": "stderr",
     "output_type": "stream",
     "text": [
      "c:\\Users\\PC\\AppData\\Local\\Programs\\Python\\Python313\\Lib\\site-packages\\pydantic\\fields.py:1076: PydanticDeprecatedSince20: Using extra keyword arguments on `Field` is deprecated and will be removed. Use `json_schema_extra` instead. (Extra keys: 'required'). Deprecated in Pydantic V2.0 to be removed in V3.0. See Pydantic V2 Migration Guide at https://errors.pydantic.dev/2.11/migration/\n",
      "  warn(\n",
      "c:\\Users\\PC\\AppData\\Local\\Programs\\Python\\Python313\\Lib\\site-packages\\pydantic\\fields.py:1076: PydanticDeprecatedSince20: Using extra keyword arguments on `Field` is deprecated and will be removed. Use `json_schema_extra` instead. (Extra keys: 'required'). Deprecated in Pydantic V2.0 to be removed in V3.0. See Pydantic V2 Migration Guide at https://errors.pydantic.dev/2.11/migration/\n",
      "  warn(\n"
     ]
    }
   ],
   "source": [
    "class Multiply(BaseModel):\n",
    "    a : int =Field(required=True, description=\"the first number to multiply\")\n",
    "    b : int =Field(required=True, description=\"the second number to multiply\")\n"
   ]
  },
  {
   "cell_type": "code",
   "execution_count": 25,
   "id": "42da8723",
   "metadata": {},
   "outputs": [],
   "source": [
    "def multiply_func(a:int,b:int)->int:\n",
    "    return a*b"
   ]
  },
  {
   "cell_type": "code",
   "execution_count": 26,
   "id": "88e54680",
   "metadata": {},
   "outputs": [],
   "source": [
    "multiply_tool=StructuredTool.from_function(\n",
    "    func=multiply_func,\n",
    "    name=\"multiply\",\n",
    "    description=\"multiply two numbers\",\n",
    "    args_schema=Multiply\n",
    ")"
   ]
  },
  {
   "cell_type": "code",
   "execution_count": 28,
   "id": "d3ffb2ce",
   "metadata": {},
   "outputs": [
    {
     "name": "stdout",
     "output_type": "stream",
     "text": [
      "200\n"
     ]
    }
   ],
   "source": [
    "result=multiply_tool.invoke({\"a\":10,\"b\":20})\n",
    "print(result)"
   ]
  },
  {
   "cell_type": "code",
   "execution_count": 30,
   "id": "d7fa61ca",
   "metadata": {},
   "outputs": [
    {
     "name": "stdout",
     "output_type": "stream",
     "text": [
      "multiply\n",
      "multiply two numbers\n"
     ]
    }
   ],
   "source": [
    "print(multiply_tool.name)\n",
    "print(multiply_tool.description)"
   ]
  },
  {
   "cell_type": "markdown",
   "id": "963eef21",
   "metadata": {},
   "source": [
    "# Using BaseTool Class"
   ]
  },
  {
   "cell_type": "code",
   "execution_count": 31,
   "id": "f697a818",
   "metadata": {},
   "outputs": [],
   "source": [
    "from langchain.tools import BaseTool\n",
    "from typing import Type"
   ]
  },
  {
   "cell_type": "code",
   "execution_count": 32,
   "id": "3dc9a302",
   "metadata": {},
   "outputs": [
    {
     "name": "stderr",
     "output_type": "stream",
     "text": [
      "c:\\Users\\PC\\AppData\\Local\\Programs\\Python\\Python313\\Lib\\site-packages\\pydantic\\fields.py:1076: PydanticDeprecatedSince20: Using extra keyword arguments on `Field` is deprecated and will be removed. Use `json_schema_extra` instead. (Extra keys: 'required'). Deprecated in Pydantic V2.0 to be removed in V3.0. See Pydantic V2 Migration Guide at https://errors.pydantic.dev/2.11/migration/\n",
      "  warn(\n",
      "c:\\Users\\PC\\AppData\\Local\\Programs\\Python\\Python313\\Lib\\site-packages\\pydantic\\fields.py:1076: PydanticDeprecatedSince20: Using extra keyword arguments on `Field` is deprecated and will be removed. Use `json_schema_extra` instead. (Extra keys: 'required'). Deprecated in Pydantic V2.0 to be removed in V3.0. See Pydantic V2 Migration Guide at https://errors.pydantic.dev/2.11/migration/\n",
      "  warn(\n"
     ]
    }
   ],
   "source": [
    "# arg schema using pydantic\n",
    "class Multiply(BaseModel):\n",
    "    a : int =Field(required=True,description=\"the first number to multiply\")\n",
    "    b : int =Field(required=True,description=\"the second number to multiply\")\n",
    "    "
   ]
  },
  {
   "cell_type": "code",
   "execution_count": 33,
   "id": "37ebae9e",
   "metadata": {},
   "outputs": [],
   "source": [
    "class Multiply(BaseTool):\n",
    "    name: str ='multiply',\n",
    "    description :str = \"Multiply two numbers\"\n",
    "\n",
    "    args_schema: Type[BaseModel]=Multiply\n",
    "\n",
    "    def _run(self,a:int ,b: int)-> int:\n",
    "        return a*b\n"
   ]
  },
  {
   "cell_type": "code",
   "execution_count": 34,
   "id": "9f91f590",
   "metadata": {},
   "outputs": [],
   "source": [
    "multiply_tool=Multiply()"
   ]
  },
  {
   "cell_type": "code",
   "execution_count": 35,
   "id": "adbeb4d1",
   "metadata": {},
   "outputs": [],
   "source": [
    "restult=multiply_tool.invoke({'a':10,'b':20})"
   ]
  },
  {
   "cell_type": "code",
   "execution_count": 36,
   "id": "a951d736",
   "metadata": {},
   "outputs": [
    {
     "name": "stdout",
     "output_type": "stream",
     "text": [
      "200\n"
     ]
    }
   ],
   "source": [
    "print(result)"
   ]
  },
  {
   "cell_type": "markdown",
   "id": "70e04b84",
   "metadata": {},
   "source": [
    "# Took kit"
   ]
  },
  {
   "cell_type": "code",
   "execution_count": 4,
   "id": "85aa39d9",
   "metadata": {},
   "outputs": [],
   "source": [
    "# custom tools\n",
    "from langchain_core.tools import tool\n",
    "@tool\n",
    "def multiply(a:int,b:int)-> int:\n",
    "    \"Multiply a number\"\n",
    "    return a*b\n",
    "\n",
    "# custom tools\n",
    "@tool\n",
    "def add(a:int,b:int)-> int:\n",
    "    \"add a number\"\n",
    "    return a+b\n",
    "    "
   ]
  },
  {
   "cell_type": "code",
   "execution_count": 5,
   "id": "e7f96afa",
   "metadata": {},
   "outputs": [],
   "source": [
    "class MathToolkit:\n",
    "    def get_tools(self):\n",
    "        return[add,multiply]"
   ]
  },
  {
   "cell_type": "code",
   "execution_count": 6,
   "id": "b0fd5b42",
   "metadata": {},
   "outputs": [],
   "source": [
    "toolkit=MathToolkit()\n",
    "tools=toolkit.get_tools()"
   ]
  },
  {
   "cell_type": "code",
   "execution_count": 9,
   "id": "d2bb8031",
   "metadata": {},
   "outputs": [
    {
     "name": "stdout",
     "output_type": "stream",
     "text": [
      "add\n",
      "multiply\n"
     ]
    }
   ],
   "source": [
    "for i in tools:\n",
    "    print(i.name)"
   ]
  },
  {
   "cell_type": "code",
   "execution_count": null,
   "id": "53cdec74",
   "metadata": {},
   "outputs": [],
   "source": []
  }
 ],
 "metadata": {
  "kernelspec": {
   "display_name": "Python 3",
   "language": "python",
   "name": "python3"
  },
  "language_info": {
   "codemirror_mode": {
    "name": "ipython",
    "version": 3
   },
   "file_extension": ".py",
   "mimetype": "text/x-python",
   "name": "python",
   "nbconvert_exporter": "python",
   "pygments_lexer": "ipython3",
   "version": "3.13.2"
  }
 },
 "nbformat": 4,
 "nbformat_minor": 5
}
