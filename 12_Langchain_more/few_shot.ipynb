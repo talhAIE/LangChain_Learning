{
 "cells": [
  {
   "cell_type": "code",
   "execution_count": 20,
   "id": "17d56c69",
   "metadata": {},
   "outputs": [
    {
     "name": "stdout",
     "output_type": "stream",
     "text": [
      "آپ کیسے ہیں؟\n"
     ]
    }
   ],
   "source": [
    "from langchain.prompts import FewShotChatMessagePromptTemplate,ChatPromptTemplate\n",
    "from langchain_groq import ChatGroq\n",
    "\n",
    "examples = [\n",
    "    {\"input\": \"talha\", \"output\": \"طلحہ\"},\n",
    "    {\"input\": \"abbasi\", \"output\": \"عباسی\"},\n",
    "]\n",
    "\n",
    "example_prompt = ChatPromptTemplate.from_messages(\n",
    "[('human', '{input}?'), ('ai', '{output}')]\n",
    ")\n",
    "\n",
    "few_shot_prompt=FewShotChatMessagePromptTemplate(\n",
    "    examples=examples,\n",
    "    example_prompt=example_prompt,\n",
    ")\n",
    "\n",
    "chatprompt=ChatPromptTemplate.from_messages(\n",
    "    [\n",
    "        ('system',\"You are a helpful assistant that translates any text from English to Urdu.\"),\n",
    "        few_shot_prompt,\n",
    "        ('human', '{input}'),\n",
    "    ]\n",
    ")\n",
    "model= ChatGroq(model=\"openai/gpt-oss-20b\")\n",
    "\n",
    "chain= chatprompt | model\n",
    "response= chain.invoke({\"input\": \"how are you\"})\n",
    "print(response.content)"
   ]
  },
  {
   "cell_type": "code",
   "execution_count": 18,
   "id": "2ca02fe9",
   "metadata": {},
   "outputs": [
    {
     "data": {
      "text/plain": [
       "True"
      ]
     },
     "execution_count": 18,
     "metadata": {},
     "output_type": "execute_result"
    }
   ],
   "source": [
    "from dotenv import load_dotenv\n",
    "load_dotenv()"
   ]
  },
  {
   "cell_type": "code",
   "execution_count": null,
   "id": "b2ea543c",
   "metadata": {},
   "outputs": [],
   "source": []
  }
 ],
 "metadata": {
  "kernelspec": {
   "display_name": "Python 3",
   "language": "python",
   "name": "python3"
  },
  "language_info": {
   "codemirror_mode": {
    "name": "ipython",
    "version": 3
   },
   "file_extension": ".py",
   "mimetype": "text/x-python",
   "name": "python",
   "nbconvert_exporter": "python",
   "pygments_lexer": "ipython3",
   "version": "3.13.2"
  }
 },
 "nbformat": 4,
 "nbformat_minor": 5
}
