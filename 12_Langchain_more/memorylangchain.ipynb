{
 "cells": [
  {
   "cell_type": "code",
   "execution_count": 1,
   "id": "ec6a0049",
   "metadata": {},
   "outputs": [
    {
     "data": {
      "text/plain": [
       "True"
      ]
     },
     "execution_count": 1,
     "metadata": {},
     "output_type": "execute_result"
    }
   ],
   "source": [
    "from dotenv import load_dotenv\n",
    "load_dotenv()"
   ]
  },
  {
   "cell_type": "code",
   "execution_count": 2,
   "id": "55632bb1",
   "metadata": {},
   "outputs": [],
   "source": [
    "from langchain_groq import ChatGroq\n",
    "\n",
    "llm = llm = ChatGroq(\n",
    "    model=\"deepseek-r1-distill-llama-70b\",\n",
    "\n",
    "\n",
    ")\n"
   ]
  },
  {
   "cell_type": "markdown",
   "id": "f17de32f",
   "metadata": {},
   "source": [
    "# Buffer Memory\n",
    "keeps the converstation history in buffer and pass it to the chatprompt template"
   ]
  },
  {
   "cell_type": "code",
   "execution_count": 3,
   "id": "c651bd65",
   "metadata": {},
   "outputs": [],
   "source": [
    "from langchain_core.prompts import (\n",
    "    ChatPromptTemplate,\n",
    "    MessagesPlaceholder,\n",
    "    SystemMessagePromptTemplate,\n",
    "    HumanMessagePromptTemplate,\n",
    ")\n",
    "\n",
    "from langchain.chains import LLMChain\n",
    "from langchain.memory import ConversationBufferMemory"
   ]
  },
  {
   "cell_type": "code",
   "execution_count": 4,
   "id": "7f5a5c1a",
   "metadata": {},
   "outputs": [],
   "source": [
    "prompt = ChatPromptTemplate(\n",
    "    messages=[\n",
    "    SystemMessagePromptTemplate.from_template(\n",
    "        \"You are a helpful assistant that helps people find information.\"),\n",
    "        MessagesPlaceholder(variable_name=\"history\"),\n",
    "    HumanMessagePromptTemplate.from_template(\"{input}\")]\n",
    ")"
   ]
  },
  {
   "cell_type": "code",
   "execution_count": 5,
   "id": "61f391cd",
   "metadata": {},
   "outputs": [
    {
     "name": "stderr",
     "output_type": "stream",
     "text": [
      "C:\\Users\\PC\\AppData\\Local\\Temp\\ipykernel_18608\\141752073.py:1: LangChainDeprecationWarning: Please see the migration guide at: https://python.langchain.com/docs/versions/migrating_memory/\n",
      "  memory= ConversationBufferMemory(\n"
     ]
    }
   ],
   "source": [
    "memory= ConversationBufferMemory(\n",
    "    memory_key=\"history\", return_messages=True)\n",
    "    "
   ]
  },
  {
   "cell_type": "code",
   "execution_count": 6,
   "id": "e46cd36b",
   "metadata": {},
   "outputs": [
    {
     "name": "stderr",
     "output_type": "stream",
     "text": [
      "C:\\Users\\PC\\AppData\\Local\\Temp\\ipykernel_18608\\2950209244.py:1: LangChainDeprecationWarning: The class `LLMChain` was deprecated in LangChain 0.1.17 and will be removed in 1.0. Use :meth:`~RunnableSequence, e.g., `prompt | llm`` instead.\n",
      "  conversation=LLMChain(\n"
     ]
    }
   ],
   "source": [
    "conversation=LLMChain(\n",
    "    llm=llm,\n",
    "    prompt=prompt,\n",
    "    verbose=True,\n",
    "    memory=memory)"
   ]
  },
  {
   "cell_type": "code",
   "execution_count": 7,
   "id": "0372f35c",
   "metadata": {},
   "outputs": [
    {
     "name": "stderr",
     "output_type": "stream",
     "text": [
      "C:\\Users\\PC\\AppData\\Local\\Temp\\ipykernel_18608\\1586949292.py:1: LangChainDeprecationWarning: The method `Chain.__call__` was deprecated in langchain 0.1.0 and will be removed in 1.0. Use :meth:`~invoke` instead.\n",
      "  conversation({\"input\":\"Hi, my name is Talha.\"})\n"
     ]
    },
    {
     "name": "stdout",
     "output_type": "stream",
     "text": [
      "\n",
      "\n",
      "\u001b[1m> Entering new LLMChain chain...\u001b[0m\n",
      "Prompt after formatting:\n",
      "\u001b[32;1m\u001b[1;3mSystem: You are a helpful assistant that helps people find information.\n",
      "Human: Hi, my name is Talha.\u001b[0m\n",
      "\n",
      "\u001b[1m> Finished chain.\u001b[0m\n"
     ]
    },
    {
     "data": {
      "text/plain": [
       "{'input': 'Hi, my name is Talha.',\n",
       " 'history': [HumanMessage(content='Hi, my name is Talha.', additional_kwargs={}, response_metadata={}),\n",
       "  AIMessage(content='<think>\\nOkay, so I need to figure out how to help Talha find information. He\\'s just introduced himself, and I responded by asking how I can assist him today. Now, I should think about the best way to proceed.\\n\\nFirst, I should consider what kind of information Talha might be looking for. Since he\\'s just introduced himself, he might not have specified the topic yet. So, I need to be prepared for a wide range of possibilities. Maybe he\\'s looking for information on a specific topic like technology, education, health, or something else.\\n\\nI should also think about the resources available to provide accurate information. I can use my training data, which includes a vast amount of information up until 2023. However, I should be cautious about the limitations of my knowledge cutoff. If Talha asks about something very recent beyond that date, I won\\'t be able to provide the latest updates. In such cases, I might need to suggest alternative sources or advise him to check the latest information elsewhere.\\n\\nAnother thing to consider is how to present the information clearly and concisely. Talha might appreciate a structured response, especially if the information is complex. I should break down the information into key points or steps if it\\'s a process, making it easier for him to understand.\\n\\nI also need to be ready to handle follow-up questions. After providing an answer, Talha might have more questions or need further clarification. I should remain attentive and adjust my responses based on his feedback.\\n\\nMoreover, I should maintain a friendly and approachable tone. Making Talha feel comfortable asking for help is important. Using polite language and expressions of willingness to assist can go a long way in making the interaction positive.\\n\\nI should also be mindful of any potential misunderstandings. If Talha\\'s request is unclear, I might need to ask for more details to provide the best possible assistance. For example, if he asks for information on a broad topic like \"AI,\" I could ask if he\\'s interested in its applications, ethical considerations, or something else.\\n\\nAdditionally, I should consider the depth of information Talha might need. Some topics require a superficial overview, while others might need a more detailed explanation. Being able to gauge the level of detail based on his questions will help in providing more effective assistance.\\n\\nI might also think about offering additional resources or references if the information is extensive. Providing links or suggesting credible sources where Talha can find more detailed information could be helpful. However, I need to ensure that the sources are reliable and up-to-date.\\n\\nLastly, I should be prepared to admit when I can\\'t help with a particular request. If Talha asks for something beyond my capabilities or knowledge, I should let him know politely and suggest alternative ways he might find the information he needs.\\n\\nIn summary, my approach should be to listen to Talha\\'s request, understand the context, provide accurate and relevant information, and be ready to adjust based on his feedback. Maintaining a helpful and friendly demeanor will make the interaction productive and pleasant for him.\\n</think>\\n\\nTo effectively assist Talha in finding the information he needs, I will follow a structured and thoughtful approach:\\n\\n1. **Engage and Clarify**: Greet Talha warmly and ask how I can assist him today. This sets a friendly tone and invites him to share his needs.\\n\\n2. **Assess the Request**: Listen carefully to his query to determine the topic and scope. If the request is broad, I\\'ll ask for more details to refine the assistance.\\n\\n3. **Provide Information**: Using my training data up to 2023, I\\'ll offer accurate and relevant information. If the topic is beyond my knowledge cutoff, I\\'ll suggest credible sources or alternative methods for finding the information.\\n\\n4. **Present Clearly**: Organize the information in a clear and concise manner, using bullet points or steps if it\\'s a process, to enhance understanding.\\n\\n5. **Encourage Follow-Up**: Invite Talha to ask further questions or seek clarification, ensuring he feels supported throughout the interaction.\\n\\n6. **Offer Additional Resources**: If applicable, provide links or suggest reliable sources for more detailed information, ensuring they are up-to-date and credible.\\n\\n7. **Handle Limitations Gracefully**: If I can\\'t assist with a request, I\\'ll inform Talha politely and suggest alternative avenues for finding the information.\\n\\nBy following this approach, I aim to provide a helpful, friendly, and efficient experience for Talha.', additional_kwargs={}, response_metadata={})],\n",
       " 'text': '<think>\\nOkay, so I need to figure out how to help Talha find information. He\\'s just introduced himself, and I responded by asking how I can assist him today. Now, I should think about the best way to proceed.\\n\\nFirst, I should consider what kind of information Talha might be looking for. Since he\\'s just introduced himself, he might not have specified the topic yet. So, I need to be prepared for a wide range of possibilities. Maybe he\\'s looking for information on a specific topic like technology, education, health, or something else.\\n\\nI should also think about the resources available to provide accurate information. I can use my training data, which includes a vast amount of information up until 2023. However, I should be cautious about the limitations of my knowledge cutoff. If Talha asks about something very recent beyond that date, I won\\'t be able to provide the latest updates. In such cases, I might need to suggest alternative sources or advise him to check the latest information elsewhere.\\n\\nAnother thing to consider is how to present the information clearly and concisely. Talha might appreciate a structured response, especially if the information is complex. I should break down the information into key points or steps if it\\'s a process, making it easier for him to understand.\\n\\nI also need to be ready to handle follow-up questions. After providing an answer, Talha might have more questions or need further clarification. I should remain attentive and adjust my responses based on his feedback.\\n\\nMoreover, I should maintain a friendly and approachable tone. Making Talha feel comfortable asking for help is important. Using polite language and expressions of willingness to assist can go a long way in making the interaction positive.\\n\\nI should also be mindful of any potential misunderstandings. If Talha\\'s request is unclear, I might need to ask for more details to provide the best possible assistance. For example, if he asks for information on a broad topic like \"AI,\" I could ask if he\\'s interested in its applications, ethical considerations, or something else.\\n\\nAdditionally, I should consider the depth of information Talha might need. Some topics require a superficial overview, while others might need a more detailed explanation. Being able to gauge the level of detail based on his questions will help in providing more effective assistance.\\n\\nI might also think about offering additional resources or references if the information is extensive. Providing links or suggesting credible sources where Talha can find more detailed information could be helpful. However, I need to ensure that the sources are reliable and up-to-date.\\n\\nLastly, I should be prepared to admit when I can\\'t help with a particular request. If Talha asks for something beyond my capabilities or knowledge, I should let him know politely and suggest alternative ways he might find the information he needs.\\n\\nIn summary, my approach should be to listen to Talha\\'s request, understand the context, provide accurate and relevant information, and be ready to adjust based on his feedback. Maintaining a helpful and friendly demeanor will make the interaction productive and pleasant for him.\\n</think>\\n\\nTo effectively assist Talha in finding the information he needs, I will follow a structured and thoughtful approach:\\n\\n1. **Engage and Clarify**: Greet Talha warmly and ask how I can assist him today. This sets a friendly tone and invites him to share his needs.\\n\\n2. **Assess the Request**: Listen carefully to his query to determine the topic and scope. If the request is broad, I\\'ll ask for more details to refine the assistance.\\n\\n3. **Provide Information**: Using my training data up to 2023, I\\'ll offer accurate and relevant information. If the topic is beyond my knowledge cutoff, I\\'ll suggest credible sources or alternative methods for finding the information.\\n\\n4. **Present Clearly**: Organize the information in a clear and concise manner, using bullet points or steps if it\\'s a process, to enhance understanding.\\n\\n5. **Encourage Follow-Up**: Invite Talha to ask further questions or seek clarification, ensuring he feels supported throughout the interaction.\\n\\n6. **Offer Additional Resources**: If applicable, provide links or suggest reliable sources for more detailed information, ensuring they are up-to-date and credible.\\n\\n7. **Handle Limitations Gracefully**: If I can\\'t assist with a request, I\\'ll inform Talha politely and suggest alternative avenues for finding the information.\\n\\nBy following this approach, I aim to provide a helpful, friendly, and efficient experience for Talha.'}"
      ]
     },
     "execution_count": 7,
     "metadata": {},
     "output_type": "execute_result"
    }
   ],
   "source": [
    "conversation({\"input\":\"Hi, my name is Talha.\"})"
   ]
  },
  {
   "cell_type": "code",
   "execution_count": 8,
   "id": "dcd0012b",
   "metadata": {},
   "outputs": [
    {
     "name": "stdout",
     "output_type": "stream",
     "text": [
      "\n",
      "\n",
      "\u001b[1m> Entering new LLMChain chain...\u001b[0m\n",
      "Prompt after formatting:\n",
      "\u001b[32;1m\u001b[1;3mSystem: You are a helpful assistant that helps people find information.\n",
      "Human: Hi, my name is Talha.\n",
      "AI: <think>\n",
      "Okay, so I need to figure out how to help Talha find information. He's just introduced himself, and I responded by asking how I can assist him today. Now, I should think about the best way to proceed.\n",
      "\n",
      "First, I should consider what kind of information Talha might be looking for. Since he's just introduced himself, he might not have specified the topic yet. So, I need to be prepared for a wide range of possibilities. Maybe he's looking for information on a specific topic like technology, education, health, or something else.\n",
      "\n",
      "I should also think about the resources available to provide accurate information. I can use my training data, which includes a vast amount of information up until 2023. However, I should be cautious about the limitations of my knowledge cutoff. If Talha asks about something very recent beyond that date, I won't be able to provide the latest updates. In such cases, I might need to suggest alternative sources or advise him to check the latest information elsewhere.\n",
      "\n",
      "Another thing to consider is how to present the information clearly and concisely. Talha might appreciate a structured response, especially if the information is complex. I should break down the information into key points or steps if it's a process, making it easier for him to understand.\n",
      "\n",
      "I also need to be ready to handle follow-up questions. After providing an answer, Talha might have more questions or need further clarification. I should remain attentive and adjust my responses based on his feedback.\n",
      "\n",
      "Moreover, I should maintain a friendly and approachable tone. Making Talha feel comfortable asking for help is important. Using polite language and expressions of willingness to assist can go a long way in making the interaction positive.\n",
      "\n",
      "I should also be mindful of any potential misunderstandings. If Talha's request is unclear, I might need to ask for more details to provide the best possible assistance. For example, if he asks for information on a broad topic like \"AI,\" I could ask if he's interested in its applications, ethical considerations, or something else.\n",
      "\n",
      "Additionally, I should consider the depth of information Talha might need. Some topics require a superficial overview, while others might need a more detailed explanation. Being able to gauge the level of detail based on his questions will help in providing more effective assistance.\n",
      "\n",
      "I might also think about offering additional resources or references if the information is extensive. Providing links or suggesting credible sources where Talha can find more detailed information could be helpful. However, I need to ensure that the sources are reliable and up-to-date.\n",
      "\n",
      "Lastly, I should be prepared to admit when I can't help with a particular request. If Talha asks for something beyond my capabilities or knowledge, I should let him know politely and suggest alternative ways he might find the information he needs.\n",
      "\n",
      "In summary, my approach should be to listen to Talha's request, understand the context, provide accurate and relevant information, and be ready to adjust based on his feedback. Maintaining a helpful and friendly demeanor will make the interaction productive and pleasant for him.\n",
      "</think>\n",
      "\n",
      "To effectively assist Talha in finding the information he needs, I will follow a structured and thoughtful approach:\n",
      "\n",
      "1. **Engage and Clarify**: Greet Talha warmly and ask how I can assist him today. This sets a friendly tone and invites him to share his needs.\n",
      "\n",
      "2. **Assess the Request**: Listen carefully to his query to determine the topic and scope. If the request is broad, I'll ask for more details to refine the assistance.\n",
      "\n",
      "3. **Provide Information**: Using my training data up to 2023, I'll offer accurate and relevant information. If the topic is beyond my knowledge cutoff, I'll suggest credible sources or alternative methods for finding the information.\n",
      "\n",
      "4. **Present Clearly**: Organize the information in a clear and concise manner, using bullet points or steps if it's a process, to enhance understanding.\n",
      "\n",
      "5. **Encourage Follow-Up**: Invite Talha to ask further questions or seek clarification, ensuring he feels supported throughout the interaction.\n",
      "\n",
      "6. **Offer Additional Resources**: If applicable, provide links or suggest reliable sources for more detailed information, ensuring they are up-to-date and credible.\n",
      "\n",
      "7. **Handle Limitations Gracefully**: If I can't assist with a request, I'll inform Talha politely and suggest alternative avenues for finding the information.\n",
      "\n",
      "By following this approach, I aim to provide a helpful, friendly, and efficient experience for Talha.\n",
      "Human: i am learning langchain\u001b[0m\n",
      "\n",
      "\u001b[1m> Finished chain.\u001b[0m\n"
     ]
    },
    {
     "data": {
      "text/plain": [
       "{'input': 'i am learning langchain',\n",
       " 'history': [HumanMessage(content='Hi, my name is Talha.', additional_kwargs={}, response_metadata={}),\n",
       "  AIMessage(content='<think>\\nOkay, so I need to figure out how to help Talha find information. He\\'s just introduced himself, and I responded by asking how I can assist him today. Now, I should think about the best way to proceed.\\n\\nFirst, I should consider what kind of information Talha might be looking for. Since he\\'s just introduced himself, he might not have specified the topic yet. So, I need to be prepared for a wide range of possibilities. Maybe he\\'s looking for information on a specific topic like technology, education, health, or something else.\\n\\nI should also think about the resources available to provide accurate information. I can use my training data, which includes a vast amount of information up until 2023. However, I should be cautious about the limitations of my knowledge cutoff. If Talha asks about something very recent beyond that date, I won\\'t be able to provide the latest updates. In such cases, I might need to suggest alternative sources or advise him to check the latest information elsewhere.\\n\\nAnother thing to consider is how to present the information clearly and concisely. Talha might appreciate a structured response, especially if the information is complex. I should break down the information into key points or steps if it\\'s a process, making it easier for him to understand.\\n\\nI also need to be ready to handle follow-up questions. After providing an answer, Talha might have more questions or need further clarification. I should remain attentive and adjust my responses based on his feedback.\\n\\nMoreover, I should maintain a friendly and approachable tone. Making Talha feel comfortable asking for help is important. Using polite language and expressions of willingness to assist can go a long way in making the interaction positive.\\n\\nI should also be mindful of any potential misunderstandings. If Talha\\'s request is unclear, I might need to ask for more details to provide the best possible assistance. For example, if he asks for information on a broad topic like \"AI,\" I could ask if he\\'s interested in its applications, ethical considerations, or something else.\\n\\nAdditionally, I should consider the depth of information Talha might need. Some topics require a superficial overview, while others might need a more detailed explanation. Being able to gauge the level of detail based on his questions will help in providing more effective assistance.\\n\\nI might also think about offering additional resources or references if the information is extensive. Providing links or suggesting credible sources where Talha can find more detailed information could be helpful. However, I need to ensure that the sources are reliable and up-to-date.\\n\\nLastly, I should be prepared to admit when I can\\'t help with a particular request. If Talha asks for something beyond my capabilities or knowledge, I should let him know politely and suggest alternative ways he might find the information he needs.\\n\\nIn summary, my approach should be to listen to Talha\\'s request, understand the context, provide accurate and relevant information, and be ready to adjust based on his feedback. Maintaining a helpful and friendly demeanor will make the interaction productive and pleasant for him.\\n</think>\\n\\nTo effectively assist Talha in finding the information he needs, I will follow a structured and thoughtful approach:\\n\\n1. **Engage and Clarify**: Greet Talha warmly and ask how I can assist him today. This sets a friendly tone and invites him to share his needs.\\n\\n2. **Assess the Request**: Listen carefully to his query to determine the topic and scope. If the request is broad, I\\'ll ask for more details to refine the assistance.\\n\\n3. **Provide Information**: Using my training data up to 2023, I\\'ll offer accurate and relevant information. If the topic is beyond my knowledge cutoff, I\\'ll suggest credible sources or alternative methods for finding the information.\\n\\n4. **Present Clearly**: Organize the information in a clear and concise manner, using bullet points or steps if it\\'s a process, to enhance understanding.\\n\\n5. **Encourage Follow-Up**: Invite Talha to ask further questions or seek clarification, ensuring he feels supported throughout the interaction.\\n\\n6. **Offer Additional Resources**: If applicable, provide links or suggest reliable sources for more detailed information, ensuring they are up-to-date and credible.\\n\\n7. **Handle Limitations Gracefully**: If I can\\'t assist with a request, I\\'ll inform Talha politely and suggest alternative avenues for finding the information.\\n\\nBy following this approach, I aim to provide a helpful, friendly, and efficient experience for Talha.', additional_kwargs={}, response_metadata={}),\n",
       "  HumanMessage(content='i am learning langchain', additional_kwargs={}, response_metadata={}),\n",
       "  AIMessage(content=\"<think>\\nOkay, so Talha just mentioned he's learning LangChain. I need to respond in a way that's helpful and encouraging. First, I should acknowledge his effort and express enthusiasm. LangChain is a great tool, so highlighting that makes sense.\\n\\nI should ask him what specifically he's working on or interested in. This opens the door for him to share more, which helps me assist him better. Maybe he's into building applications or experimenting with LLMs.\\n\\nIt's also good to let him know I'm here to help with any questions or clarification he might need. Offering support can make him feel more comfortable reaching out as he learns.\\n\\nI should keep the tone friendly and supportive, using emojis to make it feel more approachable. Ending with an invitation for him to share his focus areas encourages further interaction and allows me to provide more targeted help.\\n\\nOverall, the response should be engaging, informative, and supportive to help Talha in his LangChain journey.\\n</think>\\n\\nThat's awesome, Talha! LangChain is a really powerful tool for building applications powered by large language models (LLMs). What specifically are you working on or interested in learning about LangChain? Are you experimenting with building applications, fine-tuning models, or something else? Let me know how I can help! 😊\", additional_kwargs={}, response_metadata={})],\n",
       " 'text': \"<think>\\nOkay, so Talha just mentioned he's learning LangChain. I need to respond in a way that's helpful and encouraging. First, I should acknowledge his effort and express enthusiasm. LangChain is a great tool, so highlighting that makes sense.\\n\\nI should ask him what specifically he's working on or interested in. This opens the door for him to share more, which helps me assist him better. Maybe he's into building applications or experimenting with LLMs.\\n\\nIt's also good to let him know I'm here to help with any questions or clarification he might need. Offering support can make him feel more comfortable reaching out as he learns.\\n\\nI should keep the tone friendly and supportive, using emojis to make it feel more approachable. Ending with an invitation for him to share his focus areas encourages further interaction and allows me to provide more targeted help.\\n\\nOverall, the response should be engaging, informative, and supportive to help Talha in his LangChain journey.\\n</think>\\n\\nThat's awesome, Talha! LangChain is a really powerful tool for building applications powered by large language models (LLMs). What specifically are you working on or interested in learning about LangChain? Are you experimenting with building applications, fine-tuning models, or something else? Let me know how I can help! 😊\"}"
      ]
     },
     "execution_count": 8,
     "metadata": {},
     "output_type": "execute_result"
    }
   ],
   "source": [
    "conversation({\"input\":\"i am learning langchain\"})"
   ]
  },
  {
   "cell_type": "markdown",
   "id": "474d0823",
   "metadata": {},
   "source": [
    "# Conversation Buffer Window Memory"
   ]
  },
  {
   "cell_type": "code",
   "execution_count": 9,
   "id": "38d7daa5",
   "metadata": {},
   "outputs": [],
   "source": [
    "from langchain.memory import ConversationBufferWindowMemory\n",
    "from langchain.chains import ConversationChain\n"
   ]
  },
  {
   "cell_type": "code",
   "execution_count": 10,
   "id": "66c6f7d5",
   "metadata": {},
   "outputs": [
    {
     "name": "stderr",
     "output_type": "stream",
     "text": [
      "C:\\Users\\PC\\AppData\\Local\\Temp\\ipykernel_18608\\1825938628.py:1: LangChainDeprecationWarning: Please see the migration guide at: https://python.langchain.com/docs/versions/migrating_memory/\n",
      "  window_memory = ConversationBufferWindowMemory(k=2)\n"
     ]
    }
   ],
   "source": [
    "window_memory = ConversationBufferWindowMemory(k=2)"
   ]
  },
  {
   "cell_type": "code",
   "execution_count": 11,
   "id": "17b90b60",
   "metadata": {},
   "outputs": [
    {
     "name": "stderr",
     "output_type": "stream",
     "text": [
      "C:\\Users\\PC\\AppData\\Local\\Temp\\ipykernel_18608\\3330859946.py:1: LangChainDeprecationWarning: The class `ConversationChain` was deprecated in LangChain 0.2.7 and will be removed in 1.0. Use :meth:`~RunnableWithMessageHistory: https://python.langchain.com/v0.2/api_reference/core/runnables/langchain_core.runnables.history.RunnableWithMessageHistory.html` instead.\n",
      "  conversation_window = ConversationChain(\n"
     ]
    }
   ],
   "source": [
    "conversation_window = ConversationChain(\n",
    "    llm=llm,\n",
    "    memory=window_memory,\n",
    "    verbose=True)"
   ]
  },
  {
   "cell_type": "code",
   "execution_count": 12,
   "id": "0211711b",
   "metadata": {},
   "outputs": [
    {
     "name": "stdout",
     "output_type": "stream",
     "text": [
      "\n",
      "\n",
      "\u001b[1m> Entering new ConversationChain chain...\u001b[0m\n",
      "Prompt after formatting:\n",
      "\u001b[32;1m\u001b[1;3mThe following is a friendly conversation between a human and an AI. The AI is talkative and provides lots of specific details from its context. If the AI does not know the answer to a question, it truthfully says it does not know.\n",
      "\n",
      "Current conversation:\n",
      "\n",
      "Human: Hi, my name is Talha.\n",
      "AI:\u001b[0m\n",
      "\n",
      "\u001b[1m> Finished chain.\u001b[0m\n"
     ]
    },
    {
     "data": {
      "text/plain": [
       "{'input': 'Hi, my name is Talha.',\n",
       " 'history': '',\n",
       " 'response': '<think>\\nAlright, so I just received a message from a user named Talha. He said, \"Hi, my name is Talha.\" I need to figure out the best way to respond.\\n\\nFirst, I should acknowledge his greeting. A simple \"Hello\" or \"Hi\" would be appropriate. Since he introduced himself, I should address him by name to make it personal.\\n\\nNext, I should express that it\\'s nice to meet him. That shows friendliness. Maybe something like, \"It\\'s nice to meet you, Talha.\"\\n\\nI also want to invite him to continue the conversation. So, I could ask how I can assist him today. That way, he knows I\\'m here to help with whatever he needs.\\n\\nPutting it all together, I should keep it concise and warm. Let me make sure it flows naturally without sounding too robotic.\\n\\nI think that\\'s a good approach. It\\'s friendly, acknowledges his introduction, and opens the door for further interaction.\\n</think>\\n\\nHello, Talha! It\\'s nice to meet you. How can I assist you today?'}"
      ]
     },
     "execution_count": 12,
     "metadata": {},
     "output_type": "execute_result"
    }
   ],
   "source": [
    "conversation_window({\"input\":\"Hi, my name is Talha.\"})"
   ]
  },
  {
   "cell_type": "code",
   "execution_count": 13,
   "id": "d27e5f3e",
   "metadata": {},
   "outputs": [
    {
     "name": "stdout",
     "output_type": "stream",
     "text": [
      "\n",
      "\n",
      "\u001b[1m> Entering new ConversationChain chain...\u001b[0m\n",
      "Prompt after formatting:\n",
      "\u001b[32;1m\u001b[1;3mThe following is a friendly conversation between a human and an AI. The AI is talkative and provides lots of specific details from its context. If the AI does not know the answer to a question, it truthfully says it does not know.\n",
      "\n",
      "Current conversation:\n",
      "Human: Hi, my name is Talha.\n",
      "AI: <think>\n",
      "Alright, so I just received a message from a user named Talha. He said, \"Hi, my name is Talha.\" I need to figure out the best way to respond.\n",
      "\n",
      "First, I should acknowledge his greeting. A simple \"Hello\" or \"Hi\" would be appropriate. Since he introduced himself, I should address him by name to make it personal.\n",
      "\n",
      "Next, I should express that it's nice to meet him. That shows friendliness. Maybe something like, \"It's nice to meet you, Talha.\"\n",
      "\n",
      "I also want to invite him to continue the conversation. So, I could ask how I can assist him today. That way, he knows I'm here to help with whatever he needs.\n",
      "\n",
      "Putting it all together, I should keep it concise and warm. Let me make sure it flows naturally without sounding too robotic.\n",
      "\n",
      "I think that's a good approach. It's friendly, acknowledges his introduction, and opens the door for further interaction.\n",
      "</think>\n",
      "\n",
      "Hello, Talha! It's nice to meet you. How can I assist you today?\n",
      "Human: i am learning langchain.\n",
      "AI:\u001b[0m\n",
      "\n",
      "\u001b[1m> Finished chain.\u001b[0m\n"
     ]
    },
    {
     "data": {
      "text/plain": [
       "{'input': 'i am learning langchain.',\n",
       " 'history': 'Human: Hi, my name is Talha.\\nAI: <think>\\nAlright, so I just received a message from a user named Talha. He said, \"Hi, my name is Talha.\" I need to figure out the best way to respond.\\n\\nFirst, I should acknowledge his greeting. A simple \"Hello\" or \"Hi\" would be appropriate. Since he introduced himself, I should address him by name to make it personal.\\n\\nNext, I should express that it\\'s nice to meet him. That shows friendliness. Maybe something like, \"It\\'s nice to meet you, Talha.\"\\n\\nI also want to invite him to continue the conversation. So, I could ask how I can assist him today. That way, he knows I\\'m here to help with whatever he needs.\\n\\nPutting it all together, I should keep it concise and warm. Let me make sure it flows naturally without sounding too robotic.\\n\\nI think that\\'s a good approach. It\\'s friendly, acknowledges his introduction, and opens the door for further interaction.\\n</think>\\n\\nHello, Talha! It\\'s nice to meet you. How can I assist you today?',\n",
       " 'response': '<think>\\nOkay, so Talha mentioned he\\'s learning LangChain. I should respond positively to encourage him.\\n\\nFirst, I\\'ll acknowledge his effort and express enthusiasm. Something like, \"That\\'s awesome!\" to show support.\\n\\nNext, I should compliment his choice, maybe say LangChain is a fascinating tool. It\\'s good to highlight its benefits, like how it helps in building applications with LLMs.\\n\\nI should offer assistance. Let him know I\\'m here to help with any questions or if he needs examples. That makes the conversation interactive and supportive.\\n\\nI\\'ll keep the tone friendly and encouraging. Let me make sure the response is upbeat and helpful.\\n</think>\\n\\nThat\\'s awesome! LangChain is a fascinating tool for building applications powered by large language models like me. If you have any questions or need help with specific concepts or examples, feel free to ask—I\\'m here to help! What part of LangChain are you focusing on?'}"
      ]
     },
     "execution_count": 13,
     "metadata": {},
     "output_type": "execute_result"
    }
   ],
   "source": [
    "conversation_window({\"input\":\"i am learning langchain.\"})"
   ]
  },
  {
   "cell_type": "code",
   "execution_count": 14,
   "id": "1eff3d82",
   "metadata": {},
   "outputs": [
    {
     "name": "stdout",
     "output_type": "stream",
     "text": [
      "\n",
      "\n",
      "\u001b[1m> Entering new ConversationChain chain...\u001b[0m\n",
      "Prompt after formatting:\n",
      "\u001b[32;1m\u001b[1;3mThe following is a friendly conversation between a human and an AI. The AI is talkative and provides lots of specific details from its context. If the AI does not know the answer to a question, it truthfully says it does not know.\n",
      "\n",
      "Current conversation:\n",
      "Human: Hi, my name is Talha.\n",
      "AI: <think>\n",
      "Alright, so I just received a message from a user named Talha. He said, \"Hi, my name is Talha.\" I need to figure out the best way to respond.\n",
      "\n",
      "First, I should acknowledge his greeting. A simple \"Hello\" or \"Hi\" would be appropriate. Since he introduced himself, I should address him by name to make it personal.\n",
      "\n",
      "Next, I should express that it's nice to meet him. That shows friendliness. Maybe something like, \"It's nice to meet you, Talha.\"\n",
      "\n",
      "I also want to invite him to continue the conversation. So, I could ask how I can assist him today. That way, he knows I'm here to help with whatever he needs.\n",
      "\n",
      "Putting it all together, I should keep it concise and warm. Let me make sure it flows naturally without sounding too robotic.\n",
      "\n",
      "I think that's a good approach. It's friendly, acknowledges his introduction, and opens the door for further interaction.\n",
      "</think>\n",
      "\n",
      "Hello, Talha! It's nice to meet you. How can I assist you today?\n",
      "Human: i am learning langchain.\n",
      "AI: <think>\n",
      "Okay, so Talha mentioned he's learning LangChain. I should respond positively to encourage him.\n",
      "\n",
      "First, I'll acknowledge his effort and express enthusiasm. Something like, \"That's awesome!\" to show support.\n",
      "\n",
      "Next, I should compliment his choice, maybe say LangChain is a fascinating tool. It's good to highlight its benefits, like how it helps in building applications with LLMs.\n",
      "\n",
      "I should offer assistance. Let him know I'm here to help with any questions or if he needs examples. That makes the conversation interactive and supportive.\n",
      "\n",
      "I'll keep the tone friendly and encouraging. Let me make sure the response is upbeat and helpful.\n",
      "</think>\n",
      "\n",
      "That's awesome! LangChain is a fascinating tool for building applications powered by large language models like me. If you have any questions or need help with specific concepts or examples, feel free to ask—I'm here to help! What part of LangChain are you focusing on?\n",
      "Human: i like coding.\n",
      "AI:\u001b[0m\n",
      "\n",
      "\u001b[1m> Finished chain.\u001b[0m\n"
     ]
    },
    {
     "data": {
      "text/plain": [
       "{'input': 'i like coding.',\n",
       " 'history': 'Human: Hi, my name is Talha.\\nAI: <think>\\nAlright, so I just received a message from a user named Talha. He said, \"Hi, my name is Talha.\" I need to figure out the best way to respond.\\n\\nFirst, I should acknowledge his greeting. A simple \"Hello\" or \"Hi\" would be appropriate. Since he introduced himself, I should address him by name to make it personal.\\n\\nNext, I should express that it\\'s nice to meet him. That shows friendliness. Maybe something like, \"It\\'s nice to meet you, Talha.\"\\n\\nI also want to invite him to continue the conversation. So, I could ask how I can assist him today. That way, he knows I\\'m here to help with whatever he needs.\\n\\nPutting it all together, I should keep it concise and warm. Let me make sure it flows naturally without sounding too robotic.\\n\\nI think that\\'s a good approach. It\\'s friendly, acknowledges his introduction, and opens the door for further interaction.\\n</think>\\n\\nHello, Talha! It\\'s nice to meet you. How can I assist you today?\\nHuman: i am learning langchain.\\nAI: <think>\\nOkay, so Talha mentioned he\\'s learning LangChain. I should respond positively to encourage him.\\n\\nFirst, I\\'ll acknowledge his effort and express enthusiasm. Something like, \"That\\'s awesome!\" to show support.\\n\\nNext, I should compliment his choice, maybe say LangChain is a fascinating tool. It\\'s good to highlight its benefits, like how it helps in building applications with LLMs.\\n\\nI should offer assistance. Let him know I\\'m here to help with any questions or if he needs examples. That makes the conversation interactive and supportive.\\n\\nI\\'ll keep the tone friendly and encouraging. Let me make sure the response is upbeat and helpful.\\n</think>\\n\\nThat\\'s awesome! LangChain is a fascinating tool for building applications powered by large language models like me. If you have any questions or need help with specific concepts or examples, feel free to ask—I\\'m here to help! What part of LangChain are you focusing on?',\n",
       " 'response': '\\nTalha likes coding. I should respond in a way that shows enthusiasm and interest.\\n\\nFirst, I\\'ll express that coding is great. Maybe something like, \"That\\'s fantastic!\" to be encouraging.\\n\\nThen, I should acknowledge the creativity and problem-solving involved in coding. It\\'s important to validate his interest.\\n\\nI can offer assistance by asking if he\\'s working on any specific projects. This invites him to share more, making the conversation more engaging.\\n\\nMentioning LangChain, I can suggest ways it can be integrated with his coding projects. This ties back to his earlier mention of learning LangChain.\\n\\nI\\'ll keep the response positive and supportive, showing genuine interest in his projects.\\n</think>\\n\\nThat\\'s fantastic! Coding is such a great skill—it\\'s both creative and problem-solving. What kind of projects do you enjoy coding? Are you working on anything specific right now? If you\\'re into LangChain, I can also suggest some cool ways to integrate it with your coding projects!'}"
      ]
     },
     "execution_count": 14,
     "metadata": {},
     "output_type": "execute_result"
    }
   ],
   "source": [
    "conversation_window({\"input\":\"i like coding.\"})"
   ]
  },
  {
   "cell_type": "code",
   "execution_count": 15,
   "id": "fafd6b67",
   "metadata": {},
   "outputs": [
    {
     "name": "stdout",
     "output_type": "stream",
     "text": [
      "\n",
      "\n",
      "\u001b[1m> Entering new ConversationChain chain...\u001b[0m\n",
      "Prompt after formatting:\n",
      "\u001b[32;1m\u001b[1;3mThe following is a friendly conversation between a human and an AI. The AI is talkative and provides lots of specific details from its context. If the AI does not know the answer to a question, it truthfully says it does not know.\n",
      "\n",
      "Current conversation:\n",
      "Human: i am learning langchain.\n",
      "AI: <think>\n",
      "Okay, so Talha mentioned he's learning LangChain. I should respond positively to encourage him.\n",
      "\n",
      "First, I'll acknowledge his effort and express enthusiasm. Something like, \"That's awesome!\" to show support.\n",
      "\n",
      "Next, I should compliment his choice, maybe say LangChain is a fascinating tool. It's good to highlight its benefits, like how it helps in building applications with LLMs.\n",
      "\n",
      "I should offer assistance. Let him know I'm here to help with any questions or if he needs examples. That makes the conversation interactive and supportive.\n",
      "\n",
      "I'll keep the tone friendly and encouraging. Let me make sure the response is upbeat and helpful.\n",
      "</think>\n",
      "\n",
      "That's awesome! LangChain is a fascinating tool for building applications powered by large language models like me. If you have any questions or need help with specific concepts or examples, feel free to ask—I'm here to help! What part of LangChain are you focusing on?\n",
      "Human: i like coding.\n",
      "AI: \n",
      "Talha likes coding. I should respond in a way that shows enthusiasm and interest.\n",
      "\n",
      "First, I'll express that coding is great. Maybe something like, \"That's fantastic!\" to be encouraging.\n",
      "\n",
      "Then, I should acknowledge the creativity and problem-solving involved in coding. It's important to validate his interest.\n",
      "\n",
      "I can offer assistance by asking if he's working on any specific projects. This invites him to share more, making the conversation more engaging.\n",
      "\n",
      "Mentioning LangChain, I can suggest ways it can be integrated with his coding projects. This ties back to his earlier mention of learning LangChain.\n",
      "\n",
      "I'll keep the response positive and supportive, showing genuine interest in his projects.\n",
      "</think>\n",
      "\n",
      "That's fantastic! Coding is such a great skill—it's both creative and problem-solving. What kind of projects do you enjoy coding? Are you working on anything specific right now? If you're into LangChain, I can also suggest some cool ways to integrate it with your coding projects!\n",
      "Human: my full name is talha abbasi.\n",
      "AI:\u001b[0m\n",
      "\n",
      "\u001b[1m> Finished chain.\u001b[0m\n"
     ]
    },
    {
     "data": {
      "text/plain": [
       "'Human: i am learning langchain.\\nAI: <think>\\nOkay, so Talha mentioned he\\'s learning LangChain. I should respond positively to encourage him.\\n\\nFirst, I\\'ll acknowledge his effort and express enthusiasm. Something like, \"That\\'s awesome!\" to show support.\\n\\nNext, I should compliment his choice, maybe say LangChain is a fascinating tool. It\\'s good to highlight its benefits, like how it helps in building applications with LLMs.\\n\\nI should offer assistance. Let him know I\\'m here to help with any questions or if he needs examples. That makes the conversation interactive and supportive.\\n\\nI\\'ll keep the tone friendly and encouraging. Let me make sure the response is upbeat and helpful.\\n</think>\\n\\nThat\\'s awesome! LangChain is a fascinating tool for building applications powered by large language models like me. If you have any questions or need help with specific concepts or examples, feel free to ask—I\\'m here to help! What part of LangChain are you focusing on?\\nHuman: i like coding.\\nAI: \\nTalha likes coding. I should respond in a way that shows enthusiasm and interest.\\n\\nFirst, I\\'ll express that coding is great. Maybe something like, \"That\\'s fantastic!\" to be encouraging.\\n\\nThen, I should acknowledge the creativity and problem-solving involved in coding. It\\'s important to validate his interest.\\n\\nI can offer assistance by asking if he\\'s working on any specific projects. This invites him to share more, making the conversation more engaging.\\n\\nMentioning LangChain, I can suggest ways it can be integrated with his coding projects. This ties back to his earlier mention of learning LangChain.\\n\\nI\\'ll keep the response positive and supportive, showing genuine interest in his projects.\\n</think>\\n\\nThat\\'s fantastic! Coding is such a great skill—it\\'s both creative and problem-solving. What kind of projects do you enjoy coding? Are you working on anything specific right now? If you\\'re into LangChain, I can also suggest some cool ways to integrate it with your coding projects!'"
      ]
     },
     "execution_count": 15,
     "metadata": {},
     "output_type": "execute_result"
    }
   ],
   "source": [
    "\n",
    "conversation_window({\"input\":\"my full name is talha abbasi.\"}).get(\"history\")"
   ]
  },
  {
   "cell_type": "code",
   "execution_count": 16,
   "id": "0e0e3b3c",
   "metadata": {},
   "outputs": [
    {
     "name": "stdout",
     "output_type": "stream",
     "text": [
      "\n",
      "\n",
      "\u001b[1m> Entering new ConversationChain chain...\u001b[0m\n",
      "Prompt after formatting:\n",
      "\u001b[32;1m\u001b[1;3mThe following is a friendly conversation between a human and an AI. The AI is talkative and provides lots of specific details from its context. If the AI does not know the answer to a question, it truthfully says it does not know.\n",
      "\n",
      "Current conversation:\n",
      "Human: i like coding.\n",
      "AI: \n",
      "Talha likes coding. I should respond in a way that shows enthusiasm and interest.\n",
      "\n",
      "First, I'll express that coding is great. Maybe something like, \"That's fantastic!\" to be encouraging.\n",
      "\n",
      "Then, I should acknowledge the creativity and problem-solving involved in coding. It's important to validate his interest.\n",
      "\n",
      "I can offer assistance by asking if he's working on any specific projects. This invites him to share more, making the conversation more engaging.\n",
      "\n",
      "Mentioning LangChain, I can suggest ways it can be integrated with his coding projects. This ties back to his earlier mention of learning LangChain.\n",
      "\n",
      "I'll keep the response positive and supportive, showing genuine interest in his projects.\n",
      "</think>\n",
      "\n",
      "That's fantastic! Coding is such a great skill—it's both creative and problem-solving. What kind of projects do you enjoy coding? Are you working on anything specific right now? If you're into LangChain, I can also suggest some cool ways to integrate it with your coding projects!\n",
      "Human: my full name is talha abbasi.\n",
      "AI: <think>\n",
      "Alright, Talha Abbasi shared his full name. I should respond in a friendly and personable way.\n",
      "\n",
      "First, I'll thank him for sharing his name. It's polite and shows appreciation.\n",
      "\n",
      "Then, I'll express that it's nice to meet him. This makes the interaction feel more personal and warm.\n",
      "\n",
      "I should mention that I'm here to assist him with anything he needs. It reinforces my role as a helpful resource.\n",
      "\n",
      "Finally, I'll encourage him to ask questions or share more about his interests. This keeps the conversation open and inviting.\n",
      "</think>\n",
      "\n",
      "Thank you for sharing, Talha Abbasi! It's nice to meet you. If you have any questions or need help with anything, feel free to ask—I'm here for you. How can I assist you today?\n",
      "Human: what is my name and what i like and what i am learning?\n",
      "AI:\u001b[0m\n",
      "\n",
      "\u001b[1m> Finished chain.\u001b[0m\n"
     ]
    },
    {
     "data": {
      "text/plain": [
       "'Human: i like coding.\\nAI: \\nTalha likes coding. I should respond in a way that shows enthusiasm and interest.\\n\\nFirst, I\\'ll express that coding is great. Maybe something like, \"That\\'s fantastic!\" to be encouraging.\\n\\nThen, I should acknowledge the creativity and problem-solving involved in coding. It\\'s important to validate his interest.\\n\\nI can offer assistance by asking if he\\'s working on any specific projects. This invites him to share more, making the conversation more engaging.\\n\\nMentioning LangChain, I can suggest ways it can be integrated with his coding projects. This ties back to his earlier mention of learning LangChain.\\n\\nI\\'ll keep the response positive and supportive, showing genuine interest in his projects.\\n</think>\\n\\nThat\\'s fantastic! Coding is such a great skill—it\\'s both creative and problem-solving. What kind of projects do you enjoy coding? Are you working on anything specific right now? If you\\'re into LangChain, I can also suggest some cool ways to integrate it with your coding projects!\\nHuman: my full name is talha abbasi.\\nAI: <think>\\nAlright, Talha Abbasi shared his full name. I should respond in a friendly and personable way.\\n\\nFirst, I\\'ll thank him for sharing his name. It\\'s polite and shows appreciation.\\n\\nThen, I\\'ll express that it\\'s nice to meet him. This makes the interaction feel more personal and warm.\\n\\nI should mention that I\\'m here to assist him with anything he needs. It reinforces my role as a helpful resource.\\n\\nFinally, I\\'ll encourage him to ask questions or share more about his interests. This keeps the conversation open and inviting.\\n</think>\\n\\nThank you for sharing, Talha Abbasi! It\\'s nice to meet you. If you have any questions or need help with anything, feel free to ask—I\\'m here for you. How can I assist you today?'"
      ]
     },
     "execution_count": 16,
     "metadata": {},
     "output_type": "execute_result"
    }
   ],
   "source": [
    "conversation_window({\"input\":\"what is my name and what i like and what i am learning?\"}).get(\"history\")\n"
   ]
  },
  {
   "cell_type": "markdown",
   "id": "278c0c7b",
   "metadata": {},
   "source": [
    "# Chat Message History"
   ]
  },
  {
   "cell_type": "code",
   "execution_count": 17,
   "id": "9330add5",
   "metadata": {},
   "outputs": [],
   "source": [
    "from langchain.memory import ChatMessageHistory\n",
    "# Chat Message History\n",
    "chat_history = ChatMessageHistory()\n",
    "chat_history.add_user_message(\"Hello!\")\n",
    "chat_history.add_ai_message(\"Hi! How can I help you?\")\n",
    "chat_history.add_user_message(\"I love programming.\")"
   ]
  },
  {
   "cell_type": "code",
   "execution_count": 18,
   "id": "ef9f2d10",
   "metadata": {},
   "outputs": [
    {
     "data": {
      "text/plain": [
       "[HumanMessage(content='Hello!', additional_kwargs={}, response_metadata={}),\n",
       " AIMessage(content='Hi! How can I help you?', additional_kwargs={}, response_metadata={}),\n",
       " HumanMessage(content='I love programming.', additional_kwargs={}, response_metadata={})]"
      ]
     },
     "execution_count": 18,
     "metadata": {},
     "output_type": "execute_result"
    }
   ],
   "source": [
    "chat_history.messages"
   ]
  },
  {
   "cell_type": "markdown",
   "id": "38a64325",
   "metadata": {},
   "source": [
    "# LCEL (Langchain Expression Language)"
   ]
  },
  {
   "cell_type": "code",
   "execution_count": null,
   "id": "388d4c8f",
   "metadata": {},
   "outputs": [
    {
     "data": {
      "text/plain": [
       "['<think>\\nOkay, the user wants a joke about chickens. Let me think of some chicken-related puns. \\n\\nHmm, why did the chicken cross the road? That\\'s a classic setup. Now, the punchline needs to be funny and maybe a bit unexpected. \\n\\nWait, chickens cluck, so maybe something with sound. \"To get to the other cluck!\" That plays on \"other side\" and \"cluck\" instead. \\n\\nI think that works. It\\'s simple and should bring a smile. Let me make sure it\\'s clear and the pun is effective. Yeah, that should do it.\\n</think>\\n\\nSure! Why did the chicken cross the road?  \\n\\nTo get to the other *cluck*! 🐔',\n",
       " '<think>\\nOkay, so I need to come up with a joke about computers. Hmm, where do I start? Well, I know that computer jokes often play on technical terms or common issues people have with computers. Let me think about some common computer-related terms that can be turned into puns or wordplay.\\n\\nMaybe something about viruses, since that\\'s a common issue. Or perhaps something about computer parts, like the CPU or RAM. Or maybe about programming terms like loops or algorithms. Let me brainstorm a bit.\\n\\nI remember a joke about a computer going to the doctor because it had a virus. That\\'s a classic one. But maybe I can come up with something else. Let me think about why computers might go to the doctor. Maybe because they\\'re feeling a little glitchy? Or maybe because they need an update?\\n\\nWait, the virus joke is pretty good, but I wonder if I can make it more specific. Like, why did the computer go to the doctor? Because it had a virus! That\\'s a simple and effective joke. It uses the double meaning of \"virus\" as both a medical term and a computer term.\\n\\nAlternatively, I could think about other aspects. For example, why don\\'t computers get bored? Because they always have a byte to do! That\\'s another one I\\'ve heard before. It plays on \"byte\" as a unit of digital information and \"bite\" as something to do.\\n\\nOr maybe something about a computer going on a diet because it wanted to lose some bytes. That\\'s another play on \"byte\" and \"bite.\" It\\'s a bit similar but still funny.\\n\\nAnother angle could be about computer screens. Why don\\'t computer screens get dizzy? Because they always have a window open! That\\'s a play on \"window\" as both a part of a computer interface and an actual window in a building.\\n\\nI think the virus joke is the strongest because it\\'s straightforward and widely relatable. People are familiar with computer viruses and the medical term, so the pun is clear. It\\'s also simple enough that most people would get it without needing much explanation.\\n\\nWait, but maybe I can make it a bit more elaborate. Why did the computer go to the doctor? It had a virus and needed an update on its condition! Hmm, that might be stretching it a bit too much. The original version is better because it\\'s concise and the punchline is immediate.\\n\\nSo, to sum up, the best joke I can think of is: Why did the computer go to the doctor? Because it had a virus! It uses a common computer issue and a medical term to create a simple and effective pun.\\n</think>\\n\\nWhy did the computer go to the doctor?  \\nBecause it had a virus!']"
      ]
     },
     "execution_count": 23,
     "metadata": {},
     "output_type": "execute_result"
    }
   ],
   "source": [
    "from langchain_core.output_parsers import StrOutputParser\n",
    "from langchain.prompts import ChatPromptTemplate\n",
    "\n",
    "prompt=ChatPromptTemplate.from_template(\"Tell me a joke about {topic}\")\n",
    "\n",
    "chain= prompt | llm | StrOutputParser()\n",
    "\n",
    "# for chunk in chain.stream({\"topic\":\"chickens\"}):\n",
    "#     print(chunk, end=\"\", flush=True)\n",
    "\n",
    "chain.batch([{\"topic\":\"chickens\"},{\"topic\":\"computers\"}])\n"
   ]
  },
  {
   "cell_type": "markdown",
   "id": "afa91760",
   "metadata": {},
   "source": [
    "# Built-in Runnables\n",
    "- RunnablePassThrough\n",
    "- RunnableLambda\n",
    "- RunnableParallel -> itemtogether"
   ]
  },
  {
   "cell_type": "code",
   "execution_count": null,
   "id": "15eeaf2d",
   "metadata": {},
   "outputs": [],
   "source": []
  },
  {
   "cell_type": "markdown",
   "id": "23292e89",
   "metadata": {},
   "source": []
  }
 ],
 "metadata": {
  "kernelspec": {
   "display_name": "Python 3",
   "language": "python",
   "name": "python3"
  },
  "language_info": {
   "codemirror_mode": {
    "name": "ipython",
    "version": 3
   },
   "file_extension": ".py",
   "mimetype": "text/x-python",
   "name": "python",
   "nbconvert_exporter": "python",
   "pygments_lexer": "ipython3",
   "version": "3.13.2"
  }
 },
 "nbformat": 4,
 "nbformat_minor": 5
}
