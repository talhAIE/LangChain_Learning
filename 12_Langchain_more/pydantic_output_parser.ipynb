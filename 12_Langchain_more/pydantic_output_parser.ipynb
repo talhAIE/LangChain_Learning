{
 "cells": [
  {
   "cell_type": "code",
   "execution_count": 6,
   "id": "714653d2",
   "metadata": {},
   "outputs": [
    {
     "data": {
      "text/plain": [
       "True"
      ]
     },
     "execution_count": 6,
     "metadata": {},
     "output_type": "execute_result"
    }
   ],
   "source": [
    "from langchain_core.output_parsers import JsonOutputParser\n",
    "from langchain_core.prompts import PromptTemplate\n",
    "from pydantic import BaseModel, Field\n",
    "from langchain_openai import ChatOpenAI\n",
    "from dotenv import load_dotenv\n",
    "load_dotenv()"
   ]
  },
  {
   "cell_type": "code",
   "execution_count": 2,
   "id": "b866e057",
   "metadata": {},
   "outputs": [],
   "source": [
    "class joke(BaseModel):\n",
    "    setup: str = Field(description=\"The setup of the joke\")\n",
    "    punchline: str = Field(description=\"The punchline of the joke\")"
   ]
  },
  {
   "cell_type": "code",
   "execution_count": 3,
   "id": "64e72d2a",
   "metadata": {},
   "outputs": [],
   "source": [
    "parser= JsonOutputParser(pydantic_object=joke)"
   ]
  },
  {
   "cell_type": "code",
   "execution_count": 4,
   "id": "9b5ee705",
   "metadata": {},
   "outputs": [],
   "source": [
    "prompt=PromptTemplate(\n",
    "    template=\"Answer the user query \\n {format_instructions}\\n {query}\",\n",
    "    input_variables=[\"query\"],\n",
    "    partial_variables={\"format_instructions\": parser.get_format_instructions()}\n",
    ")"
   ]
  },
  {
   "cell_type": "code",
   "execution_count": 7,
   "id": "e5e71863",
   "metadata": {},
   "outputs": [],
   "source": [
    "model=ChatOpenAI()"
   ]
  },
  {
   "cell_type": "code",
   "execution_count": 8,
   "id": "28f26fa3",
   "metadata": {},
   "outputs": [],
   "source": [
    "chain= prompt | model | parser\n"
   ]
  },
  {
   "cell_type": "code",
   "execution_count": 10,
   "id": "7510e1f8",
   "metadata": {},
   "outputs": [
    {
     "data": {
      "text/plain": [
       "{'setup': \"Why couldn't the bicycle stand up by itself?\",\n",
       " 'punchline': 'It was two tired!'}"
      ]
     },
     "execution_count": 10,
     "metadata": {},
     "output_type": "execute_result"
    }
   ],
   "source": [
    "chain.invoke({\"query\": \"Tell me a joke\"})"
   ]
  },
  {
   "cell_type": "code",
   "execution_count": 11,
   "id": "e1cfe14e",
   "metadata": {},
   "outputs": [
    {
     "data": {
      "text/plain": [
       "dict"
      ]
     },
     "execution_count": 11,
     "metadata": {},
     "output_type": "execute_result"
    }
   ],
   "source": [
    "type(chain.invoke({\"query\": \"Tell me a joke\"}))"
   ]
  },
  {
   "cell_type": "code",
   "execution_count": null,
   "id": "67a09e00",
   "metadata": {},
   "outputs": [],
   "source": []
  }
 ],
 "metadata": {
  "kernelspec": {
   "display_name": "Python 3",
   "language": "python",
   "name": "python3"
  },
  "language_info": {
   "codemirror_mode": {
    "name": "ipython",
    "version": 3
   },
   "file_extension": ".py",
   "mimetype": "text/x-python",
   "name": "python",
   "nbconvert_exporter": "python",
   "pygments_lexer": "ipython3",
   "version": "3.13.2"
  }
 },
 "nbformat": 4,
 "nbformat_minor": 5
}
