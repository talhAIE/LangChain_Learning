{
 "cells": [
  {
   "cell_type": "markdown",
   "id": "b28835a7",
   "metadata": {},
   "source": [
    "# Currency Conversion Tool"
   ]
  },
  {
   "cell_type": "code",
   "execution_count": 95,
   "id": "99072077",
   "metadata": {},
   "outputs": [],
   "source": [
    "# 1st tool\n",
    "from langchain_core.tools import tool\n",
    "import requests\n",
    "from typing import Annotated\n",
    "from langchain_core.tools import InjectedToolArg\n",
    "from dotenv import load_dotenv\n",
    "load_dotenv()\n",
    "\n",
    "@tool\n",
    "def get_conversion_factor(base_currency:str,target_currency:str)->float:\n",
    "    \"\"\"this tool fetch the currency conversion factor between a given base currency and a target currency\"\"\"\n",
    "    url=f\"https://v6.exchangerate-api.com/v6/0ac5c1dd956231a4da75bd12/pair/{base_currency}/{target_currency}\"\n",
    "    response=requests.get(url)\n",
    "    return response.json()\n",
    "\n",
    "# 2nd tool\n",
    "\n",
    "@tool\n",
    "def convert_currency(base_currency:int,conversion_factor:Annotated[float,InjectedToolArg])-> float:\n",
    "    \"This tool convert the base currenty into target currency\"\n",
    "    return base_currency * conversion_factor\n"
   ]
  },
  {
   "cell_type": "code",
   "execution_count": 96,
   "id": "32e6db56",
   "metadata": {},
   "outputs": [],
   "source": [
    "check_conversion_factor=get_conversion_factor.invoke({\"base_currency\": \"USD\",\"target_currency\": \"PKR\"})"
   ]
  },
  {
   "cell_type": "code",
   "execution_count": 97,
   "id": "fecb0649",
   "metadata": {},
   "outputs": [
    {
     "data": {
      "text/plain": [
       "{'result': 'success',\n",
       " 'documentation': 'https://www.exchangerate-api.com/docs',\n",
       " 'terms_of_use': 'https://www.exchangerate-api.com/terms',\n",
       " 'time_last_update_unix': 1753660801,\n",
       " 'time_last_update_utc': 'Mon, 28 Jul 2025 00:00:01 +0000',\n",
       " 'time_next_update_unix': 1753747201,\n",
       " 'time_next_update_utc': 'Tue, 29 Jul 2025 00:00:01 +0000',\n",
       " 'base_code': 'USD',\n",
       " 'target_code': 'PKR',\n",
       " 'conversion_rate': 283.3984}"
      ]
     },
     "execution_count": 97,
     "metadata": {},
     "output_type": "execute_result"
    }
   ],
   "source": [
    "check_conversion_factor"
   ]
  },
  {
   "cell_type": "code",
   "execution_count": 98,
   "id": "cfcc187b",
   "metadata": {},
   "outputs": [
    {
     "data": {
      "text/plain": [
       "28300.0"
      ]
     },
     "execution_count": 98,
     "metadata": {},
     "output_type": "execute_result"
    }
   ],
   "source": [
    "convert_currency.invoke({'base_currency':100,'conversion_factor':283})"
   ]
  },
  {
   "cell_type": "code",
   "execution_count": 99,
   "id": "43dd820b",
   "metadata": {},
   "outputs": [],
   "source": [
    "from langchain_openai import ChatOpenAI\n",
    "\n",
    "llm=ChatOpenAI()"
   ]
  },
  {
   "cell_type": "code",
   "execution_count": 100,
   "id": "ce53a47f",
   "metadata": {},
   "outputs": [],
   "source": [
    "# bind tools\n",
    "llm_tool=llm.bind_tools([get_conversion_factor,convert_currency])"
   ]
  },
  {
   "cell_type": "code",
   "execution_count": 101,
   "id": "6ad84c56",
   "metadata": {},
   "outputs": [
    {
     "data": {
      "text/plain": [
       "RunnableBinding(bound=ChatOpenAI(client=<openai.resources.chat.completions.completions.Completions object at 0x0000016927341BA0>, async_client=<openai.resources.chat.completions.completions.AsyncCompletions object at 0x0000016927343E10>, root_client=<openai.OpenAI object at 0x00000169236FDBD0>, root_async_client=<openai.AsyncOpenAI object at 0x00000169272FAFD0>, model_kwargs={}, openai_api_key=SecretStr('**********')), kwargs={'tools': [{'type': 'function', 'function': {'name': 'get_conversion_factor', 'description': 'this tool fetch the currency conversion factor between a given base currency and a target currency', 'parameters': {'properties': {'base_currency': {'type': 'string'}, 'target_currency': {'type': 'string'}}, 'required': ['base_currency', 'target_currency'], 'type': 'object'}}}, {'type': 'function', 'function': {'name': 'convert_currency', 'description': 'This tool convert the base currenty into target currency', 'parameters': {'properties': {'base_currency': {'type': 'integer'}}, 'required': ['base_currency'], 'type': 'object'}}}]}, config={}, config_factories=[])"
      ]
     },
     "execution_count": 101,
     "metadata": {},
     "output_type": "execute_result"
    }
   ],
   "source": [
    "llm_tool"
   ]
  },
  {
   "cell_type": "code",
   "execution_count": 102,
   "id": "59bdc85e",
   "metadata": {},
   "outputs": [],
   "source": [
    "from langchain_core.messages import HumanMessage\n",
    "\n",
    "\n",
    "messages=[HumanMessage(content=\"What is the conversion factor between USD and PKR? and also convert the amount of 100US into PKr\")]"
   ]
  },
  {
   "cell_type": "code",
   "execution_count": 103,
   "id": "0d7dfcc7",
   "metadata": {},
   "outputs": [],
   "source": [
    "ai_msg=llm_tool.invoke(messages)"
   ]
  },
  {
   "cell_type": "code",
   "execution_count": 104,
   "id": "a3ce85bd",
   "metadata": {},
   "outputs": [],
   "source": [
    "messages.append(ai_msg)"
   ]
  },
  {
   "cell_type": "code",
   "execution_count": 105,
   "id": "702cdf6c",
   "metadata": {},
   "outputs": [
    {
     "data": {
      "text/plain": [
       "[HumanMessage(content='What is the conversion factor between USD and PKR? and also convert the amount of 100US into PKr', additional_kwargs={}, response_metadata={}),\n",
       " AIMessage(content='', additional_kwargs={'tool_calls': [{'id': 'call_K9OoZ0bAZlvRTV96LzvaSDfk', 'function': {'arguments': '{\"base_currency\": \"USD\", \"target_currency\": \"PKR\"}', 'name': 'get_conversion_factor'}, 'type': 'function'}, {'id': 'call_hZ9XtZgyMHwnbIOrjEm3VbgO', 'function': {'arguments': '{\"base_currency\": 100}', 'name': 'convert_currency'}, 'type': 'function'}], 'refusal': None}, response_metadata={'token_usage': {'completion_tokens': 52, 'prompt_tokens': 112, 'total_tokens': 164, 'completion_tokens_details': {'accepted_prediction_tokens': 0, 'audio_tokens': 0, 'reasoning_tokens': 0, 'rejected_prediction_tokens': 0}, 'prompt_tokens_details': {'audio_tokens': 0, 'cached_tokens': 0}}, 'model_name': 'gpt-3.5-turbo-0125', 'system_fingerprint': None, 'id': 'chatcmpl-ByJtidmd8xym8AGPqUce5BcXMCauC', 'finish_reason': 'tool_calls', 'logprobs': None}, id='run--077e2796-68ec-48cf-9468-07f6f031f694-0', tool_calls=[{'name': 'get_conversion_factor', 'args': {'base_currency': 'USD', 'target_currency': 'PKR'}, 'id': 'call_K9OoZ0bAZlvRTV96LzvaSDfk', 'type': 'tool_call'}, {'name': 'convert_currency', 'args': {'base_currency': 100}, 'id': 'call_hZ9XtZgyMHwnbIOrjEm3VbgO', 'type': 'tool_call'}], usage_metadata={'input_tokens': 112, 'output_tokens': 52, 'total_tokens': 164, 'input_token_details': {'audio': 0, 'cache_read': 0}, 'output_token_details': {'audio': 0, 'reasoning': 0}})]"
      ]
     },
     "execution_count": 105,
     "metadata": {},
     "output_type": "execute_result"
    }
   ],
   "source": [
    "messages"
   ]
  },
  {
   "cell_type": "code",
   "execution_count": 106,
   "id": "043c0086",
   "metadata": {},
   "outputs": [
    {
     "data": {
      "text/plain": [
       "[{'name': 'get_conversion_factor',\n",
       "  'args': {'base_currency': 'USD', 'target_currency': 'PKR'},\n",
       "  'id': 'call_K9OoZ0bAZlvRTV96LzvaSDfk',\n",
       "  'type': 'tool_call'},\n",
       " {'name': 'convert_currency',\n",
       "  'args': {'base_currency': 100},\n",
       "  'id': 'call_hZ9XtZgyMHwnbIOrjEm3VbgO',\n",
       "  'type': 'tool_call'}]"
      ]
     },
     "execution_count": 106,
     "metadata": {},
     "output_type": "execute_result"
    }
   ],
   "source": [
    "# tool execution\n",
    "\n",
    "ai_msg.tool_calls\n"
   ]
  },
  {
   "cell_type": "code",
   "execution_count": 107,
   "id": "84339c65",
   "metadata": {},
   "outputs": [],
   "source": [
    "import json\n",
    "for tool_call in ai_msg.tool_calls:\n",
    "    if tool_call['name'] =='get_conversion_factor':\n",
    "        tool_msg1=get_conversion_factor.invoke(tool_call)\n",
    "        conversion_factor=json.loads(tool_msg1.content)['conversion_rate']\n",
    "        messages.append(tool_msg1)\n",
    "    elif tool_call['name'] =='convert_currency':\n",
    "        tool_call['args']['conversion_factor']=conversion_factor\n",
    "        tool_msg2=convert_currency.invoke(tool_call)\n",
    "        messages.append(tool_msg2)"
   ]
  },
  {
   "cell_type": "code",
   "execution_count": 108,
   "id": "2ef9afd7",
   "metadata": {},
   "outputs": [
    {
     "data": {
      "text/plain": [
       "[HumanMessage(content='What is the conversion factor between USD and PKR? and also convert the amount of 100US into PKr', additional_kwargs={}, response_metadata={}),\n",
       " AIMessage(content='', additional_kwargs={'tool_calls': [{'id': 'call_K9OoZ0bAZlvRTV96LzvaSDfk', 'function': {'arguments': '{\"base_currency\": \"USD\", \"target_currency\": \"PKR\"}', 'name': 'get_conversion_factor'}, 'type': 'function'}, {'id': 'call_hZ9XtZgyMHwnbIOrjEm3VbgO', 'function': {'arguments': '{\"base_currency\": 100}', 'name': 'convert_currency'}, 'type': 'function'}], 'refusal': None}, response_metadata={'token_usage': {'completion_tokens': 52, 'prompt_tokens': 112, 'total_tokens': 164, 'completion_tokens_details': {'accepted_prediction_tokens': 0, 'audio_tokens': 0, 'reasoning_tokens': 0, 'rejected_prediction_tokens': 0}, 'prompt_tokens_details': {'audio_tokens': 0, 'cached_tokens': 0}}, 'model_name': 'gpt-3.5-turbo-0125', 'system_fingerprint': None, 'id': 'chatcmpl-ByJtidmd8xym8AGPqUce5BcXMCauC', 'finish_reason': 'tool_calls', 'logprobs': None}, id='run--077e2796-68ec-48cf-9468-07f6f031f694-0', tool_calls=[{'name': 'get_conversion_factor', 'args': {'base_currency': 'USD', 'target_currency': 'PKR'}, 'id': 'call_K9OoZ0bAZlvRTV96LzvaSDfk', 'type': 'tool_call'}, {'name': 'convert_currency', 'args': {'base_currency': 100, 'conversion_factor': 283.3984}, 'id': 'call_hZ9XtZgyMHwnbIOrjEm3VbgO', 'type': 'tool_call'}], usage_metadata={'input_tokens': 112, 'output_tokens': 52, 'total_tokens': 164, 'input_token_details': {'audio': 0, 'cache_read': 0}, 'output_token_details': {'audio': 0, 'reasoning': 0}}),\n",
       " ToolMessage(content='{\"result\": \"success\", \"documentation\": \"https://www.exchangerate-api.com/docs\", \"terms_of_use\": \"https://www.exchangerate-api.com/terms\", \"time_last_update_unix\": 1753660801, \"time_last_update_utc\": \"Mon, 28 Jul 2025 00:00:01 +0000\", \"time_next_update_unix\": 1753747201, \"time_next_update_utc\": \"Tue, 29 Jul 2025 00:00:01 +0000\", \"base_code\": \"USD\", \"target_code\": \"PKR\", \"conversion_rate\": 283.3984}', name='get_conversion_factor', tool_call_id='call_K9OoZ0bAZlvRTV96LzvaSDfk'),\n",
       " ToolMessage(content='28339.839999999997', name='convert_currency', tool_call_id='call_hZ9XtZgyMHwnbIOrjEm3VbgO')]"
      ]
     },
     "execution_count": 108,
     "metadata": {},
     "output_type": "execute_result"
    }
   ],
   "source": [
    "messages"
   ]
  },
  {
   "cell_type": "code",
   "execution_count": 109,
   "id": "553b910c",
   "metadata": {},
   "outputs": [],
   "source": [
    "result=llm_tool.invoke(messages)"
   ]
  },
  {
   "cell_type": "code",
   "execution_count": 110,
   "id": "cba5c900",
   "metadata": {},
   "outputs": [
    {
     "data": {
      "text/plain": [
       "'The conversion factor between USD and PKR is 283.3984.\\n\\nWhen 100 USD is converted to PKR, it amounts to 28,339.84 PKR.'"
      ]
     },
     "execution_count": 110,
     "metadata": {},
     "output_type": "execute_result"
    }
   ],
   "source": [
    "result.content"
   ]
  },
  {
   "cell_type": "code",
   "execution_count": null,
   "id": "3d40261e",
   "metadata": {},
   "outputs": [],
   "source": []
  }
 ],
 "metadata": {
  "kernelspec": {
   "display_name": "Python 3",
   "language": "python",
   "name": "python3"
  },
  "language_info": {
   "codemirror_mode": {
    "name": "ipython",
    "version": 3
   },
   "file_extension": ".py",
   "mimetype": "text/x-python",
   "name": "python",
   "nbconvert_exporter": "python",
   "pygments_lexer": "ipython3",
   "version": "3.13.2"
  }
 },
 "nbformat": 4,
 "nbformat_minor": 5
}
