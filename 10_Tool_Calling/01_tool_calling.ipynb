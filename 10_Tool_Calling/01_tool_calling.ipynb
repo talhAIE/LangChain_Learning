{
 "cells": [
  {
   "cell_type": "markdown",
   "id": "3d639360",
   "metadata": {},
   "source": [
    "# Tool Calling\n",
    "# Tool Binding\n",
    "# Tool Execution"
   ]
  },
  {
   "cell_type": "code",
   "execution_count": 1,
   "id": "f954e004",
   "metadata": {},
   "outputs": [
    {
     "data": {
      "text/plain": [
       "True"
      ]
     },
     "execution_count": 1,
     "metadata": {},
     "output_type": "execute_result"
    }
   ],
   "source": [
    "from dotenv import load_dotenv\n",
    "load_dotenv()"
   ]
  },
  {
   "cell_type": "code",
   "execution_count": 2,
   "id": "cefa0fd5",
   "metadata": {},
   "outputs": [],
   "source": [
    "from langchain_openai import ChatOpenAI\n",
    "from langchain_core.tools import tool\n",
    "from langchain_core.messages import HumanMessage, SystemMessage\n",
    "import requests"
   ]
  },
  {
   "cell_type": "code",
   "execution_count": 3,
   "id": "d90b6028",
   "metadata": {},
   "outputs": [],
   "source": [
    "llm=ChatOpenAI()"
   ]
  },
  {
   "cell_type": "code",
   "execution_count": 4,
   "id": "29809fc7",
   "metadata": {},
   "outputs": [],
   "source": [
    "@tool\n",
    "def add_num(a:int,b:int)->int:\n",
    "    \"Given two number a and b to get addition\"\n",
    "    return a+b"
   ]
  },
  {
   "cell_type": "code",
   "execution_count": 5,
   "id": "936c43c5",
   "metadata": {},
   "outputs": [],
   "source": [
    "llm_tool=llm.bind_tools([add_num])"
   ]
  },
  {
   "cell_type": "code",
   "execution_count": 7,
   "id": "ffb52106",
   "metadata": {},
   "outputs": [
    {
     "data": {
      "text/plain": [
       "AIMessage(content=\"Hello! I'm here and ready to help you. How can I assist you today?\", additional_kwargs={'refusal': None}, response_metadata={'token_usage': {'completion_tokens': 19, 'prompt_tokens': 56, 'total_tokens': 75, 'completion_tokens_details': {'accepted_prediction_tokens': 0, 'audio_tokens': 0, 'reasoning_tokens': 0, 'rejected_prediction_tokens': 0}, 'prompt_tokens_details': {'audio_tokens': 0, 'cached_tokens': 0}}, 'model_name': 'gpt-3.5-turbo-0125', 'system_fingerprint': None, 'id': 'chatcmpl-ByIzRHev02iZ2T8IDG3y4mRoUnjru', 'finish_reason': 'stop', 'logprobs': None}, id='run--0c0e3476-393e-4c2b-8bc3-02a8dc77b3e0-0', usage_metadata={'input_tokens': 56, 'output_tokens': 19, 'total_tokens': 75, 'input_token_details': {'audio': 0, 'cache_read': 0}, 'output_token_details': {'audio': 0, 'reasoning': 0}})"
      ]
     },
     "execution_count": 7,
     "metadata": {},
     "output_type": "execute_result"
    }
   ],
   "source": [
    "llm_tool.invoke(\"hi how are you\")"
   ]
  },
  {
   "cell_type": "code",
   "execution_count": 8,
   "id": "41bfbcf4",
   "metadata": {},
   "outputs": [
    {
     "data": {
      "text/plain": [
       "AIMessage(content='', additional_kwargs={'tool_calls': [{'id': 'call_Q8VD1K7aS9NG267AnJDUetVM', 'function': {'arguments': '{\"a\":2,\"b\":2}', 'name': 'add_num'}, 'type': 'function'}], 'refusal': None}, response_metadata={'token_usage': {'completion_tokens': 18, 'prompt_tokens': 60, 'total_tokens': 78, 'completion_tokens_details': {'accepted_prediction_tokens': 0, 'audio_tokens': 0, 'reasoning_tokens': 0, 'rejected_prediction_tokens': 0}, 'prompt_tokens_details': {'audio_tokens': 0, 'cached_tokens': 0}}, 'model_name': 'gpt-3.5-turbo-0125', 'system_fingerprint': None, 'id': 'chatcmpl-ByIzcbn3ZYECTgAWwlpkVX9OMF9t2', 'finish_reason': 'tool_calls', 'logprobs': None}, id='run--021a0750-03ab-4465-9a52-3179bcf1ae5f-0', tool_calls=[{'name': 'add_num', 'args': {'a': 2, 'b': 2}, 'id': 'call_Q8VD1K7aS9NG267AnJDUetVM', 'type': 'tool_call'}], usage_metadata={'input_tokens': 60, 'output_tokens': 18, 'total_tokens': 78, 'input_token_details': {'audio': 0, 'cache_read': 0}, 'output_token_details': {'audio': 0, 'reasoning': 0}})"
      ]
     },
     "execution_count": 8,
     "metadata": {},
     "output_type": "execute_result"
    }
   ],
   "source": [
    "llm_tool.invoke(\"What is addition of 2+2\")"
   ]
  },
  {
   "cell_type": "code",
   "execution_count": 9,
   "id": "2771e218",
   "metadata": {},
   "outputs": [],
   "source": [
    "query=HumanMessage(content=\"What is addition of 2 and 2\")"
   ]
  },
  {
   "cell_type": "code",
   "execution_count": 12,
   "id": "dc59d3d0",
   "metadata": {},
   "outputs": [],
   "source": [
    "msg=[query]"
   ]
  },
  {
   "cell_type": "code",
   "execution_count": 13,
   "id": "bb193180",
   "metadata": {},
   "outputs": [],
   "source": [
    "result=llm_tool.invoke(msg)"
   ]
  },
  {
   "cell_type": "code",
   "execution_count": 14,
   "id": "a33f2a32",
   "metadata": {},
   "outputs": [],
   "source": [
    "msg.append(result)"
   ]
  },
  {
   "cell_type": "code",
   "execution_count": 15,
   "id": "08d55f40",
   "metadata": {},
   "outputs": [
    {
     "data": {
      "text/plain": [
       "[HumanMessage(content='What is addition of 2 and 2', additional_kwargs={}, response_metadata={}),\n",
       " AIMessage(content='', additional_kwargs={'tool_calls': [{'id': 'call_LXmN5FGAy2WfCxwikCuQ0vMa', 'function': {'arguments': '{\"a\": 2, \"b\": 2}', 'name': 'add_num'}, 'type': 'function'}], 'refusal': None}, response_metadata={'token_usage': {'completion_tokens': 33, 'prompt_tokens': 61, 'total_tokens': 94, 'completion_tokens_details': {'accepted_prediction_tokens': 0, 'audio_tokens': 0, 'reasoning_tokens': 0, 'rejected_prediction_tokens': 0}, 'prompt_tokens_details': {'audio_tokens': 0, 'cached_tokens': 0}}, 'model_name': 'gpt-3.5-turbo-0125', 'system_fingerprint': None, 'id': 'chatcmpl-ByJ0ibtbk6yjnvYekJWXZ5vNra3U1', 'finish_reason': 'tool_calls', 'logprobs': None}, id='run--d956a3e3-40c3-4593-bbe3-7233883d8610-0', tool_calls=[{'name': 'add_num', 'args': {'a': 2, 'b': 2}, 'id': 'call_LXmN5FGAy2WfCxwikCuQ0vMa', 'type': 'tool_call'}], usage_metadata={'input_tokens': 61, 'output_tokens': 33, 'total_tokens': 94, 'input_token_details': {'audio': 0, 'cache_read': 0}, 'output_token_details': {'audio': 0, 'reasoning': 0}})]"
      ]
     },
     "execution_count": 15,
     "metadata": {},
     "output_type": "execute_result"
    }
   ],
   "source": [
    "msg"
   ]
  },
  {
   "cell_type": "code",
   "execution_count": 17,
   "id": "7025585d",
   "metadata": {},
   "outputs": [],
   "source": [
    "res=add_num.invoke(result.tool_calls[0])"
   ]
  },
  {
   "cell_type": "code",
   "execution_count": 18,
   "id": "3b932a48",
   "metadata": {},
   "outputs": [],
   "source": [
    "msg.append(res)"
   ]
  },
  {
   "cell_type": "code",
   "execution_count": 19,
   "id": "574a8561",
   "metadata": {},
   "outputs": [
    {
     "data": {
      "text/plain": [
       "[HumanMessage(content='What is addition of 2 and 2', additional_kwargs={}, response_metadata={}),\n",
       " AIMessage(content='', additional_kwargs={'tool_calls': [{'id': 'call_LXmN5FGAy2WfCxwikCuQ0vMa', 'function': {'arguments': '{\"a\": 2, \"b\": 2}', 'name': 'add_num'}, 'type': 'function'}], 'refusal': None}, response_metadata={'token_usage': {'completion_tokens': 33, 'prompt_tokens': 61, 'total_tokens': 94, 'completion_tokens_details': {'accepted_prediction_tokens': 0, 'audio_tokens': 0, 'reasoning_tokens': 0, 'rejected_prediction_tokens': 0}, 'prompt_tokens_details': {'audio_tokens': 0, 'cached_tokens': 0}}, 'model_name': 'gpt-3.5-turbo-0125', 'system_fingerprint': None, 'id': 'chatcmpl-ByJ0ibtbk6yjnvYekJWXZ5vNra3U1', 'finish_reason': 'tool_calls', 'logprobs': None}, id='run--d956a3e3-40c3-4593-bbe3-7233883d8610-0', tool_calls=[{'name': 'add_num', 'args': {'a': 2, 'b': 2}, 'id': 'call_LXmN5FGAy2WfCxwikCuQ0vMa', 'type': 'tool_call'}], usage_metadata={'input_tokens': 61, 'output_tokens': 33, 'total_tokens': 94, 'input_token_details': {'audio': 0, 'cache_read': 0}, 'output_token_details': {'audio': 0, 'reasoning': 0}}),\n",
       " ToolMessage(content='4', name='add_num', tool_call_id='call_LXmN5FGAy2WfCxwikCuQ0vMa')]"
      ]
     },
     "execution_count": 19,
     "metadata": {},
     "output_type": "execute_result"
    }
   ],
   "source": [
    "msg"
   ]
  },
  {
   "cell_type": "code",
   "execution_count": 20,
   "id": "0793aa34",
   "metadata": {},
   "outputs": [
    {
     "data": {
      "text/plain": [
       "AIMessage(content='The addition of 2 and 2 is 4.', additional_kwargs={'refusal': None}, response_metadata={'token_usage': {'completion_tokens': 13, 'prompt_tokens': 88, 'total_tokens': 101, 'completion_tokens_details': {'accepted_prediction_tokens': 0, 'audio_tokens': 0, 'reasoning_tokens': 0, 'rejected_prediction_tokens': 0}, 'prompt_tokens_details': {'audio_tokens': 0, 'cached_tokens': 0}}, 'model_name': 'gpt-3.5-turbo-0125', 'system_fingerprint': None, 'id': 'chatcmpl-ByJ2P8QDw5TueOugDii4ZH7QR8G2e', 'finish_reason': 'stop', 'logprobs': None}, id='run--4cd28eb1-78be-4ef1-b9c2-19f54851a23c-0', usage_metadata={'input_tokens': 88, 'output_tokens': 13, 'total_tokens': 101, 'input_token_details': {'audio': 0, 'cache_read': 0}, 'output_token_details': {'audio': 0, 'reasoning': 0}})"
      ]
     },
     "execution_count": 20,
     "metadata": {},
     "output_type": "execute_result"
    }
   ],
   "source": [
    "llm_tool.invoke(msg)"
   ]
  },
  {
   "cell_type": "code",
   "execution_count": 21,
   "id": "4b096d56",
   "metadata": {},
   "outputs": [
    {
     "data": {
      "text/plain": [
       "[HumanMessage(content='What is addition of 2 and 2', additional_kwargs={}, response_metadata={}),\n",
       " AIMessage(content='', additional_kwargs={'tool_calls': [{'id': 'call_LXmN5FGAy2WfCxwikCuQ0vMa', 'function': {'arguments': '{\"a\": 2, \"b\": 2}', 'name': 'add_num'}, 'type': 'function'}], 'refusal': None}, response_metadata={'token_usage': {'completion_tokens': 33, 'prompt_tokens': 61, 'total_tokens': 94, 'completion_tokens_details': {'accepted_prediction_tokens': 0, 'audio_tokens': 0, 'reasoning_tokens': 0, 'rejected_prediction_tokens': 0}, 'prompt_tokens_details': {'audio_tokens': 0, 'cached_tokens': 0}}, 'model_name': 'gpt-3.5-turbo-0125', 'system_fingerprint': None, 'id': 'chatcmpl-ByJ0ibtbk6yjnvYekJWXZ5vNra3U1', 'finish_reason': 'tool_calls', 'logprobs': None}, id='run--d956a3e3-40c3-4593-bbe3-7233883d8610-0', tool_calls=[{'name': 'add_num', 'args': {'a': 2, 'b': 2}, 'id': 'call_LXmN5FGAy2WfCxwikCuQ0vMa', 'type': 'tool_call'}], usage_metadata={'input_tokens': 61, 'output_tokens': 33, 'total_tokens': 94, 'input_token_details': {'audio': 0, 'cache_read': 0}, 'output_token_details': {'audio': 0, 'reasoning': 0}}),\n",
       " ToolMessage(content='4', name='add_num', tool_call_id='call_LXmN5FGAy2WfCxwikCuQ0vMa')]"
      ]
     },
     "execution_count": 21,
     "metadata": {},
     "output_type": "execute_result"
    }
   ],
   "source": [
    "msg"
   ]
  },
  {
   "cell_type": "code",
   "execution_count": null,
   "id": "3e6564ec",
   "metadata": {},
   "outputs": [],
   "source": []
  }
 ],
 "metadata": {
  "kernelspec": {
   "display_name": "Python 3",
   "language": "python",
   "name": "python3"
  },
  "language_info": {
   "codemirror_mode": {
    "name": "ipython",
    "version": 3
   },
   "file_extension": ".py",
   "mimetype": "text/x-python",
   "name": "python",
   "nbconvert_exporter": "python",
   "pygments_lexer": "ipython3",
   "version": "3.13.2"
  }
 },
 "nbformat": 4,
 "nbformat_minor": 5
}
